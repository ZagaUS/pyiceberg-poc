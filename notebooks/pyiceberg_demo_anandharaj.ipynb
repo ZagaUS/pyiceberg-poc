{
  "cells": [
    {
      "cell_type": "code",
      "execution_count": null,
      "metadata": {
        "id": "78Ojw8_amUNH"
      },
      "outputs": [],
      "source": [
        "!pip install \"pyiceberg[s3fs,hive]\""
      ]
    },
    {
      "cell_type": "code",
      "execution_count": 77,
      "metadata": {
        "id": "qf0Yf3bzmm9S"
      },
      "outputs": [],
      "source": [
        "from pyiceberg.catalog import load_catalog\n",
        "catalog = load_catalog(\n",
        "        \"docs\",\n",
        "    **{\n",
        "            \"uri\": \"thrift://hive-ms-trino.apps.zagaopenshift.zagaopensource.com:9888\",\n",
        "            \"s3.endpoint\": \"http://minio-lb.apps.zagaopenshift.zagaopensource.com:9009\",\n",
        "            \"py-io-impl\": \"pyiceberg.io.pyarrow.PyArrowFileIO\",\n",
        "            \"s3.access-key-id\": \"minioAdmin\",\n",
        "            \"s3.secret-access-key\": \"minio1234\",\n",
        "    }\n",
        ")"
      ]
    },
    {
      "cell_type": "code",
      "execution_count": null,
      "metadata": {
        "id": "XNQLiH7dU55Y"
      },
      "outputs": [],
      "source": [
        "#i create a catalog_namespace for hive to access minio using hive with nameSpace\n",
        "catalog.create_namespace(\"docs_raj\")"
      ]
    },
    {
      "cell_type": "code",
      "execution_count": 30,
      "metadata": {
        "colab": {
          "base_uri": "https://localhost:8080/"
        },
        "id": "obLoQgw7VHk0",
        "outputId": "298e39b2-b162-4f13-db1a-0af0a85f4fdc"
      },
      "outputs": [
        {
          "output_type": "execute_result",
          "data": {
            "text/plain": [
              "[('default',),\n",
              " ('docs_raj',),\n",
              " ('hi',),\n",
              " ('hlo',),\n",
              " ('pod',),\n",
              " ('power_pod',),\n",
              " ('powerlevelpoddata',),\n",
              " ('powerpod',),\n",
              " ('saravana',),\n",
              " ('saro',),\n",
              " ('sh',),\n",
              " ('sharanya',),\n",
              " ('sk',),\n",
              " ('soh',)]"
            ]
          },
          "metadata": {},
          "execution_count": 30
        }
      ],
      "source": [
        "#list name_space with acces hive with minio\n",
        "catalog.list_namespaces()"
      ]
    },
    {
      "cell_type": "code",
      "source": [
        "#list the namespace\n",
        "catalog.list_tables(\"docs_raj\")"
      ],
      "metadata": {
        "colab": {
          "base_uri": "https://localhost:8080/"
        },
        "id": "SWsy6kQu_1-n",
        "outputId": "558f19e0-4e87-49bb-9d93-8931c7da2a66"
      },
      "execution_count": 76,
      "outputs": [
        {
          "output_type": "execute_result",
          "data": {
            "text/plain": [
              "[('docs_raj', 'bids')]"
            ]
          },
          "metadata": {},
          "execution_count": 76
        }
      ]
    },
    {
      "cell_type": "code",
      "source": [
        "#drop the create the namespace\n",
        "catalog.drop_table(\"docs_raj.demo\")"
      ],
      "metadata": {
        "id": "aAGDBzn0nl-R"
      },
      "execution_count": 75,
      "outputs": []
    },
    {
      "cell_type": "code",
      "execution_count": 84,
      "metadata": {
        "id": "Nc6Tl9jVVXjh"
      },
      "outputs": [],
      "source": [
        "#create a shemma for the table\n",
        "from pyiceberg.schema import Schema\n",
        "from pyiceberg.types import NestedField, StringType, DoubleType\n",
        "\n",
        "schema = Schema(\n",
        "    NestedField(1, \"city\", StringType(), required=False),\n",
        "    NestedField(2, \"lat\", DoubleType(), required=False),\n",
        "    NestedField(3, \"long\", DoubleType(), required=False),\n",
        ")\n",
        "\n",
        "tbl = catalog.create_table(\n",
        "    identifier=\"docs_raj.rajjjj\", #mendtion identifier for namespace and create a table name\n",
        "    schema=schema ,\n",
        "    location=\"s3a://mari/raj_data\" #mention the  minio bucket name and mendtion path name\n",
        ")\n"
      ]
    },
    {
      "cell_type": "code",
      "source": [
        "#push the data mention the table\n",
        "import pyarrow as pa\n",
        "\n",
        "df = pa.Table.from_pylist(\n",
        "    [\n",
        "        {\"city\": \"Amsterdam\", \"lat\": 52.371807, \"long\": 4.896029},\n",
        "        {\"city\": \"San Francisco\", \"lat\": 37.773972, \"long\": -122.431297},\n",
        "        {\"city\": \"Drachten\", \"lat\": 53.11254, \"long\": 6.0989},\n",
        "        {\"city\": \"Paris\", \"lat\": 48.864716, \"long\": 2.349014},\n",
        "    ],\n",
        ")\n",
        "\n",
        "tbl.append(df)"
      ],
      "metadata": {
        "id": "y4Wri4VFc8xV"
      },
      "execution_count": 79,
      "outputs": []
    },
    {
      "cell_type": "code",
      "execution_count": 80,
      "metadata": {
        "id": "NbTy1HlGDVu5",
        "colab": {
          "base_uri": "https://localhost:8080/"
        },
        "outputId": "35427f15-424c-4c8e-b619-d6eb41ceb11f"
      },
      "outputs": [
        {
          "output_type": "execute_result",
          "data": {
            "text/plain": [
              "pyarrow.Table\n",
              "city: string\n",
              "lat: double\n",
              "long: double\n",
              "----\n",
              "city: [[\"Amsterdam\",\"San Francisco\",\"Drachten\",\"Paris\"]]\n",
              "lat: [[52.371807,37.773972,53.11254,48.864716]]\n",
              "long: [[4.896029,-122.431297,6.0989,2.349014]]"
            ]
          },
          "metadata": {},
          "execution_count": 80
        }
      ],
      "source": [
        "tbl.scan().to_arrow()"
      ]
    },
    {
      "cell_type": "code",
      "source": [
        "table = catalog.load_table(\"docs_raj.bids\")"
      ],
      "metadata": {
        "id": "7FQryHbvfBy5"
      },
      "execution_count": 81,
      "outputs": []
    },
    {
      "cell_type": "code",
      "source": [
        "table.scan().to_arrow()"
      ],
      "metadata": {
        "id": "9o8RPrPefErx",
        "outputId": "b24d205b-c1c5-4cb0-a3a9-aa3870e2c8f6",
        "colab": {
          "base_uri": "https://localhost:8080/"
        }
      },
      "execution_count": 82,
      "outputs": [
        {
          "output_type": "execute_result",
          "data": {
            "text/plain": [
              "pyarrow.Table\n",
              "city: string\n",
              "lat: double\n",
              "long: double\n",
              "----\n",
              "city: [[\"Amsterdam\",\"San Francisco\",\"Drachten\",\"Paris\"]]\n",
              "lat: [[52.371807,37.773972,53.11254,48.864716]]\n",
              "long: [[4.896029,-122.431297,6.0989,2.349014]]"
            ]
          },
          "metadata": {},
          "execution_count": 82
        }
      ]
    }
  ],
  "metadata": {
    "colab": {
      "provenance": []
    },
    "kernelspec": {
      "display_name": "Python 3",
      "name": "python3"
    },
    "language_info": {
      "name": "python"
    }
  },
  "nbformat": 4,
  "nbformat_minor": 0
}
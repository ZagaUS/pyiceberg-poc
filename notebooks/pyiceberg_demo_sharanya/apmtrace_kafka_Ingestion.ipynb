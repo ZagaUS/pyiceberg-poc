{
  "cells": [
    {
      "cell_type": "code",
      "execution_count": 1,
      "metadata": {
        "id": "G87-mabDKEL-"
      },
      "outputs": [
        {
          "name": "stdout",
          "output_type": "stream",
          "text": [
            "Defaulting to user installation because normal site-packages is not writeable\n",
            "Requirement already satisfied: pyiceberg[hive,s3fs] in /home/sharanya/.local/lib/python3.9/site-packages (0.6.1)\n",
            "Requirement already satisfied: requests<3.0.0,>=2.20.0 in /home/sharanya/.local/lib/python3.9/site-packages (from pyiceberg[hive,s3fs]) (2.31.0)\n",
            "Requirement already satisfied: rich<14.0.0,>=10.11.0 in /home/sharanya/.local/lib/python3.9/site-packages (from pyiceberg[hive,s3fs]) (13.7.1)\n",
            "Requirement already satisfied: mmhash3<4.0.0,>=3.0.0 in /home/sharanya/.local/lib/python3.9/site-packages (from pyiceberg[hive,s3fs]) (3.0.1)\n",
            "Requirement already satisfied: pydantic!=2.4.0,!=2.4.1,<3.0,>=2.0 in /home/sharanya/.local/lib/python3.9/site-packages (from pyiceberg[hive,s3fs]) (2.7.1)\n",
            "Requirement already satisfied: pyparsing<4.0.0,>=3.1.0 in /home/sharanya/.local/lib/python3.9/site-packages (from pyiceberg[hive,s3fs]) (3.1.2)\n",
            "Requirement already satisfied: strictyaml<2.0.0,>=1.7.0 in /home/sharanya/.local/lib/python3.9/site-packages (from pyiceberg[hive,s3fs]) (1.7.3)\n",
            "Requirement already satisfied: click<9.0.0,>=7.1.1 in /home/sharanya/.local/lib/python3.9/site-packages (from pyiceberg[hive,s3fs]) (8.1.7)\n",
            "Requirement already satisfied: sortedcontainers==2.4.0 in /home/sharanya/.local/lib/python3.9/site-packages (from pyiceberg[hive,s3fs]) (2.4.0)\n",
            "Requirement already satisfied: fsspec<2024.1.0,>=2023.1.0 in /home/sharanya/.local/lib/python3.9/site-packages (from pyiceberg[hive,s3fs]) (2023.12.2)\n",
            "Requirement already satisfied: s3fs<2024.1.0,>=2023.1.0 in /home/sharanya/.local/lib/python3.9/site-packages (from pyiceberg[hive,s3fs]) (2023.12.2)\n",
            "Requirement already satisfied: thrift<1.0.0,>=0.13.0 in /home/sharanya/.local/lib/python3.9/site-packages (from pyiceberg[hive,s3fs]) (0.20.0)\n",
            "Requirement already satisfied: pydantic-core==2.18.2 in /home/sharanya/.local/lib/python3.9/site-packages (from pydantic!=2.4.0,!=2.4.1,<3.0,>=2.0->pyiceberg[hive,s3fs]) (2.18.2)\n",
            "Requirement already satisfied: annotated-types>=0.4.0 in /home/sharanya/.local/lib/python3.9/site-packages (from pydantic!=2.4.0,!=2.4.1,<3.0,>=2.0->pyiceberg[hive,s3fs]) (0.6.0)\n",
            "Requirement already satisfied: typing-extensions>=4.6.1 in /home/sharanya/.local/lib/python3.9/site-packages (from pydantic!=2.4.0,!=2.4.1,<3.0,>=2.0->pyiceberg[hive,s3fs]) (4.11.0)\n",
            "Requirement already satisfied: charset-normalizer<4,>=2 in /home/sharanya/.local/lib/python3.9/site-packages (from requests<3.0.0,>=2.20.0->pyiceberg[hive,s3fs]) (3.3.2)\n",
            "Requirement already satisfied: idna<4,>=2.5 in /home/sharanya/.local/lib/python3.9/site-packages (from requests<3.0.0,>=2.20.0->pyiceberg[hive,s3fs]) (3.7)\n",
            "Requirement already satisfied: urllib3<3,>=1.21.1 in /home/sharanya/.local/lib/python3.9/site-packages (from requests<3.0.0,>=2.20.0->pyiceberg[hive,s3fs]) (1.26.19)\n",
            "Requirement already satisfied: certifi>=2017.4.17 in /home/sharanya/.local/lib/python3.9/site-packages (from requests<3.0.0,>=2.20.0->pyiceberg[hive,s3fs]) (2024.2.2)\n",
            "Requirement already satisfied: markdown-it-py>=2.2.0 in /home/sharanya/.local/lib/python3.9/site-packages (from rich<14.0.0,>=10.11.0->pyiceberg[hive,s3fs]) (3.0.0)\n",
            "Requirement already satisfied: pygments<3.0.0,>=2.13.0 in /home/sharanya/.local/lib/python3.9/site-packages (from rich<14.0.0,>=10.11.0->pyiceberg[hive,s3fs]) (2.18.0)\n",
            "Requirement already satisfied: mdurl~=0.1 in /home/sharanya/.local/lib/python3.9/site-packages (from markdown-it-py>=2.2.0->rich<14.0.0,>=10.11.0->pyiceberg[hive,s3fs]) (0.1.2)\n",
            "Requirement already satisfied: aiohttp!=4.0.0a0,!=4.0.0a1 in /home/sharanya/.local/lib/python3.9/site-packages (from s3fs<2024.1.0,>=2023.1.0->pyiceberg[hive,s3fs]) (3.9.5)\n",
            "Requirement already satisfied: aiobotocore<3.0.0,>=2.5.4 in /home/sharanya/.local/lib/python3.9/site-packages (from s3fs<2024.1.0,>=2023.1.0->pyiceberg[hive,s3fs]) (2.13.1)\n",
            "Requirement already satisfied: wrapt<2.0.0,>=1.10.10 in /home/sharanya/.local/lib/python3.9/site-packages (from aiobotocore<3.0.0,>=2.5.4->s3fs<2024.1.0,>=2023.1.0->pyiceberg[hive,s3fs]) (1.16.0)\n",
            "Requirement already satisfied: botocore<1.34.132,>=1.34.70 in /home/sharanya/.local/lib/python3.9/site-packages (from aiobotocore<3.0.0,>=2.5.4->s3fs<2024.1.0,>=2023.1.0->pyiceberg[hive,s3fs]) (1.34.131)\n",
            "Requirement already satisfied: aioitertools<1.0.0,>=0.5.1 in /home/sharanya/.local/lib/python3.9/site-packages (from aiobotocore<3.0.0,>=2.5.4->s3fs<2024.1.0,>=2023.1.0->pyiceberg[hive,s3fs]) (0.11.0)\n",
            "Requirement already satisfied: aiosignal>=1.1.2 in /home/sharanya/.local/lib/python3.9/site-packages (from aiohttp!=4.0.0a0,!=4.0.0a1->s3fs<2024.1.0,>=2023.1.0->pyiceberg[hive,s3fs]) (1.3.1)\n",
            "Requirement already satisfied: yarl<2.0,>=1.0 in /home/sharanya/.local/lib/python3.9/site-packages (from aiohttp!=4.0.0a0,!=4.0.0a1->s3fs<2024.1.0,>=2023.1.0->pyiceberg[hive,s3fs]) (1.9.4)\n",
            "Requirement already satisfied: frozenlist>=1.1.1 in /home/sharanya/.local/lib/python3.9/site-packages (from aiohttp!=4.0.0a0,!=4.0.0a1->s3fs<2024.1.0,>=2023.1.0->pyiceberg[hive,s3fs]) (1.4.1)\n",
            "Requirement already satisfied: multidict<7.0,>=4.5 in /home/sharanya/.local/lib/python3.9/site-packages (from aiohttp!=4.0.0a0,!=4.0.0a1->s3fs<2024.1.0,>=2023.1.0->pyiceberg[hive,s3fs]) (6.0.5)\n",
            "Requirement already satisfied: async-timeout<5.0,>=4.0 in /home/sharanya/.local/lib/python3.9/site-packages (from aiohttp!=4.0.0a0,!=4.0.0a1->s3fs<2024.1.0,>=2023.1.0->pyiceberg[hive,s3fs]) (4.0.3)\n",
            "Requirement already satisfied: attrs>=17.3.0 in /home/sharanya/.local/lib/python3.9/site-packages (from aiohttp!=4.0.0a0,!=4.0.0a1->s3fs<2024.1.0,>=2023.1.0->pyiceberg[hive,s3fs]) (23.2.0)\n",
            "Requirement already satisfied: python-dateutil<3.0.0,>=2.1 in /home/sharanya/.local/lib/python3.9/site-packages (from botocore<1.34.132,>=1.34.70->aiobotocore<3.0.0,>=2.5.4->s3fs<2024.1.0,>=2023.1.0->pyiceberg[hive,s3fs]) (2.9.0.post0)\n",
            "Requirement already satisfied: jmespath<2.0.0,>=0.7.1 in /home/sharanya/.local/lib/python3.9/site-packages (from botocore<1.34.132,>=1.34.70->aiobotocore<3.0.0,>=2.5.4->s3fs<2024.1.0,>=2023.1.0->pyiceberg[hive,s3fs]) (1.0.1)\n",
            "Requirement already satisfied: six>=1.5 in /home/sharanya/.local/lib/python3.9/site-packages (from python-dateutil<3.0.0,>=2.1->botocore<1.34.132,>=1.34.70->aiobotocore<3.0.0,>=2.5.4->s3fs<2024.1.0,>=2023.1.0->pyiceberg[hive,s3fs]) (1.16.0)\n",
            "\u001b[33mWARNING: Value for scheme.platlib does not match. Please report this to <https://github.com/pypa/pip/issues/10151>\n",
            "distutils: /home/sharanya/.local/lib/python3.9/site-packages\n",
            "sysconfig: /home/sharanya/.local/lib64/python3.9/site-packages\u001b[0m\n",
            "\u001b[33mWARNING: Additional context:\n",
            "user = True\n",
            "home = None\n",
            "root = None\n",
            "prefix = None\u001b[0m\n"
          ]
        }
      ],
      "source": [
        "!pip install \"pyiceberg[s3fs,hive]\""
      ]
    },
    {
      "cell_type": "code",
      "execution_count": 2,
      "metadata": {
        "id": "-nY0AtG6KrrF"
      },
      "outputs": [
        {
          "name": "stdout",
          "output_type": "stream",
          "text": [
            "Defaulting to user installation because normal site-packages is not writeable\n",
            "Requirement already satisfied: kafka-python in /home/sharanya/.local/lib/python3.9/site-packages (2.0.2)\n",
            "\u001b[33mWARNING: Value for scheme.platlib does not match. Please report this to <https://github.com/pypa/pip/issues/10151>\n",
            "distutils: /home/sharanya/.local/lib/python3.9/site-packages\n",
            "sysconfig: /home/sharanya/.local/lib64/python3.9/site-packages\u001b[0m\n",
            "\u001b[33mWARNING: Additional context:\n",
            "user = True\n",
            "home = None\n",
            "root = None\n",
            "prefix = None\u001b[0m\n"
          ]
        }
      ],
      "source": [
        "! pip install kafka-python"
      ]
    },
    {
      "cell_type": "code",
      "execution_count": 49,
      "metadata": {
        "id": "xDVU1xLzK9na"
      },
      "outputs": [],
      "source": [
        "from pyiceberg.catalog import load_catalog\n",
        "catalog = load_catalog(\n",
        "        \"docs\",\n",
        "    **{\n",
        "            \"uri\": \"thrift://hive-ms-trino.apps.zagaopenshift.zagaopensource.com:9888\",\n",
        "            \"s3.endpoint\": \"http://minio-lb.apps.zagaopenshift.zagaopensource.com:9009\",\n",
        "            \"py-io-impl\": \"pyiceberg.io.pyarrow.PyArrowFileIO\",\n",
        "            \"s3.access-key-id\": \"minioAdmin\",\n",
        "            \"s3.secret-access-key\": \"minio1234\",\n",
        "    }\n",
        ")\n",
        "tracetable=catalog.load_table(\"ingesttrace.traces\") #mention tablename and namesapce"
      ]
    },
    {
      "cell_type": "code",
      "execution_count": 47,
      "metadata": {
        "colab": {
          "base_uri": "https://localhost:8080/"
        },
        "id": "FpbeaKx7LFkK",
        "outputId": "2a5903cb-cc36-4b58-fbef-a8e5db237d64"
      },
      "outputs": [
        {
          "name": "stdout",
          "output_type": "stream",
          "text": [
            "Kafka consumer created successfully.\n"
          ]
        }
      ],
      "source": [
        "from kafka import KafkaConsumer\n",
        "import json\n",
        "try:\n",
        "        # Create KafkaConsumer\n",
        "        consumer = KafkaConsumer(\n",
        "            \"apmtraces\",\n",
        "            bootstrap_servers=['telemetry-kafka-external-bootstrap-observability-kafka.apps.zagaopenshift.zagaopensource.com:443'],\n",
        "            value_deserializer=lambda v: v,  # Keep value as bytes for JSON decoding\n",
        "            group_id=\"apmingestion\",\n",
        "            auto_offset_reset='earliest',\n",
        "            consumer_timeout_ms=10000,\n",
        "            security_protocol='SSL',  # Add SSL configuration if needed\n",
        "            ssl_cafile='./telemetry_zagaopenshift.pem',\n",
        "            ssl_certfile='./telemetry_zagaopenshift.crt'\n",
        "        )\n",
        "        print(\"Kafka consumer created successfully.\")\n",
        "except Exception as e:\n",
        "        print(f\"Error creating Kafka consumer: {e}\")"
      ]
    },
    {
      "cell_type": "code",
      "execution_count": 48,
      "metadata": {
        "id": "-3WM19xlLKPI"
      },
      "outputs": [
        {
          "name": "stdout",
          "output_type": "stream",
          "text": [
            "ConsumerRecord(topic='apmtraces', partition=2, offset=41, timestamp=1721929069449, timestamp_type=0, key=None, value=b'{\"resourceSpans\":[{\"resource\":{\"attributes\":[{\"key\":\"container.id\",\"value\":{\"stringValue\":\"5d080326a974eed50a7af5282a1befec82ff0bce982cc13f1a65a74bea1f0f92\"}},{\"key\":\"host.arch\",\"value\":{\"stringValue\":\"amd64\"}},{\"key\":\"host.name\",\"value\":{\"stringValue\":\"order-srv-2-6467857f64-jj2wp\"}},{\"key\":\"k8s.container.name\",\"value\":{\"stringValue\":\"order-srv-2\"}},{\"key\":\"k8s.deployment.name\",\"value\":{\"stringValue\":\"order-srv-2\"}},{\"key\":\"k8s.namespace.name\",\"value\":{\"stringValue\":\"observability-testcases\"}},{\"key\":\"k8s.node.name\",\"value\":{\"stringValue\":\"zagaocp-worker1\"}},{\"key\":\"k8s.pod.name\",\"value\":{\"stringValue\":\"order-srv-2-6467857f64-jj2wp\"}},{\"key\":\"k8s.replicaset.name\",\"value\":{\"stringValue\":\"order-srv-2-6467857f64\"}},{\"key\":\"os.description\",\"value\":{\"stringValue\":\"Linux 5.14.0-284.71.1.el9_2.x86_64\"}},{\"key\":\"os.type\",\"value\":{\"stringValue\":\"linux\"}},{\"key\":\"process.command_args\",\"value\":{\"arrayValue\":{\"values\":[{\"stringValue\":\"/usr/lib/jvm/java-11-openjdk-11.0.18.0.10-2.el8_7.x86_64/bin/java\"},{\"stringValue\":\"-jar\"},{\"stringValue\":\"app.jar\"}]}}},{\"key\":\"process.executable.path\",\"value\":{\"stringValue\":\"/usr/lib/jvm/java-11-openjdk-11.0.18.0.10-2.el8_7.x86_64/bin/java\"}},{\"key\":\"process.pid\",\"value\":{\"intValue\":\"1\"}},{\"key\":\"process.runtime.description\",\"value\":{\"stringValue\":\"Red Hat, Inc. OpenJDK 64-Bit Server VM 11.0.18+10-LTS\"}},{\"key\":\"process.runtime.name\",\"value\":{\"stringValue\":\"OpenJDK Runtime Environment\"}},{\"key\":\"process.runtime.version\",\"value\":{\"stringValue\":\"11.0.18+10-LTS\"}},{\"key\":\"service.instance.id\",\"value\":{\"stringValue\":\"observability-testcases.order-srv-2-6467857f64-jj2wp.order-srv-2\"}},{\"key\":\"service.name\",\"value\":{\"stringValue\":\"order-srv-2\"}},{\"key\":\"service.version\",\"value\":{\"stringValue\":\"order-test-2\"}},{\"key\":\"telemetry.distro.name\",\"value\":{\"stringValue\":\"opentelemetry-java-instrumentation\"}},{\"key\":\"telemetry.distro.version\",\"value\":{\"stringValue\":\"2.6.0\"}},{\"key\":\"telemetry.sdk.language\",\"value\":{\"stringValue\":\"java\"}},{\"key\":\"telemetry.sdk.name\",\"value\":{\"stringValue\":\"opentelemetry\"}},{\"key\":\"telemetry.sdk.version\",\"value\":{\"stringValue\":\"1.40.0\"}}]},\"scopeSpans\":[{\"scope\":{\"name\":\"io.opentelemetry.spring-data-1.8\",\"version\":\"2.6.0-alpha\"},\"spans\":[{\"traceId\":\"99d8082e0d5fd7b4323d486575662296\",\"spanId\":\"35dd73610f62e0f1\",\"parentSpanId\":\"fd7082d6ba695c22\",\"flags\":257,\"name\":\"OrderRepo.save\",\"kind\":1,\"startTimeUnixNano\":\"1721929066717679265\",\"endTimeUnixNano\":\"1721929066733617413\",\"attributes\":[{\"key\":\"thread.id\",\"value\":{\"intValue\":\"223\"}},{\"key\":\"thread.name\",\"value\":{\"stringValue\":\"http-nio-5089-exec-9\"}},{\"key\":\"code.namespace\",\"value\":{\"stringValue\":\"com.zaga.OrderProj.OrderRepo\"}},{\"key\":\"code.function\",\"value\":{\"stringValue\":\"save\"}}],\"status\":{}}]},{\"scope\":{\"name\":\"io.opentelemetry.hibernate-4.0\",\"version\":\"2.6.0-alpha\"},\"spans\":[{\"traceId\":\"99d8082e0d5fd7b4323d486575662296\",\"spanId\":\"f11748b186a90cb5\",\"parentSpanId\":\"35dd73610f62e0f1\",\"flags\":257,\"name\":\"Session.merge com.zaga.OrderProj.OrderEntity\",\"kind\":1,\"startTimeUnixNano\":\"1721929066726157040\",\"endTimeUnixNano\":\"1721929066731135956\",\"attributes\":[{\"key\":\"thread.id\",\"value\":{\"intValue\":\"223\"}},{\"key\":\"thread.name\",\"value\":{\"stringValue\":\"http-nio-5089-exec-9\"}}],\"status\":{}},{\"traceId\":\"99d8082e0d5fd7b4323d486575662296\",\"spanId\":\"bf6e5cbb3e4f89db\",\"parentSpanId\":\"35dd73610f62e0f1\",\"flags\":257,\"name\":\"Transaction.commit\",\"kind\":1,\"startTimeUnixNano\":\"1721929066731510340\",\"endTimeUnixNano\":\"1721929066733264771\",\"attributes\":[{\"key\":\"thread.id\",\"value\":{\"intValue\":\"223\"}},{\"key\":\"thread.name\",\"value\":{\"stringValue\":\"http-nio-5089-exec-9\"}}],\"status\":{}}]},{\"scope\":{\"name\":\"io.opentelemetry.jdbc\",\"version\":\"2.6.0-alpha\"},\"spans\":[{\"traceId\":\"99d8082e0d5fd7b4323d486575662296\",\"spanId\":\"12ebde57a35c0609\",\"parentSpanId\":\"35dd73610f62e0f1\",\"flags\":257,\"name\":\"testcasesdb\",\"kind\":3,\"startTimeUnixNano\":\"1721929066718188478\",\"endTimeUnixNano\":\"1721929066725091261\",\"attributes\":[{\"key\":\"thread.id\",\"value\":{\"intValue\":\"223\"}},{\"key\":\"thread.name\",\"value\":{\"stringValue\":\"http-nio-5089-exec-9\"}},{\"key\":\"db.name\",\"value\":{\"stringValue\":\"testcasesdb\"}},{\"key\":\"server.port\",\"value\":{\"intValue\":\"5432\"}},{\"key\":\"db.connection_string\",\"value\":{\"stringValue\":\"postgresql://postgresql-testcase-db.observability-testcases.svc.cluster.local:5432\"}},{\"key\":\"server.address\",\"value\":{\"stringValue\":\"postgresql-testcase-db.observability-testcases.svc.cluster.local\"}},{\"key\":\"db.user\",\"value\":{\"stringValue\":\"testcasesuser\"}},{\"key\":\"db.statement\",\"value\":{}},{\"key\":\"db.system\",\"value\":{\"stringValue\":\"postgresql\"}}],\"status\":{}},{\"traceId\":\"99d8082e0d5fd7b4323d486575662296\",\"spanId\":\"cff1b25bbc9d3056\",\"parentSpanId\":\"f11748b186a90cb5\",\"flags\":257,\"name\":\"SELECT testcasesdb.ocp_order_vendor\",\"kind\":3,\"startTimeUnixNano\":\"1721929066727558408\",\"endTimeUnixNano\":\"1721929066729893229\",\"attributes\":[{\"key\":\"db.operation\",\"value\":{\"stringValue\":\"SELECT\"}},{\"key\":\"db.sql.table\",\"value\":{\"stringValue\":\"ocp_order_vendor\"}},{\"key\":\"thread.id\",\"value\":{\"intValue\":\"223\"}},{\"key\":\"thread.name\",\"value\":{\"stringValue\":\"http-nio-5089-exec-9\"}},{\"key\":\"db.name\",\"value\":{\"stringValue\":\"testcasesdb\"}},{\"key\":\"server.port\",\"value\":{\"intValue\":\"5432\"}},{\"key\":\"db.connection_string\",\"value\":{\"stringValue\":\"postgresql://postgresql-testcase-db.observability-testcases.svc.cluster.local:5432\"}},{\"key\":\"server.address\",\"value\":{\"stringValue\":\"postgresql-testcase-db.observability-testcases.svc.cluster.local\"}},{\"key\":\"db.user\",\"value\":{\"stringValue\":\"testcasesuser\"}},{\"key\":\"db.statement\",\"value\":{\"stringValue\":\"select orderentit0_.id as id1_0_0_, orderentit0_.customer_id as customer2_0_0_, orderentit0_.customer_name as customer3_0_0_, orderentit0_.customer_phone_number as customer4_0_0_, orderentit0_.model_no as model_no5_0_0_, orderentit0_.order_id as order_id6_0_0_, orderentit0_.product_address as product_7_0_0_, orderentit0_.product_id as product_8_0_0_, orderentit0_.product_name as product_9_0_0_, orderentit0_.quantity as quantit10_0_0_ from ocp_order_vendor orderentit0_ where orderentit0_.id=?\"}},{\"key\":\"db.system\",\"value\":{\"stringValue\":\"postgresql\"}}],\"status\":{}}]},{\"scope\":{\"name\":\"io.opentelemetry.tomcat-7.0\",\"version\":\"2.6.0-alpha\"},\"spans\":[{\"traceId\":\"99d8082e0d5fd7b4323d486575662296\",\"spanId\":\"fd7082d6ba695c22\",\"parentSpanId\":\"\",\"flags\":257,\"name\":\"POST /orders/createErrorOrders\",\"kind\":2,\"startTimeUnixNano\":\"1721929066713099000\",\"endTimeUnixNano\":\"1721929066738349842\",\"attributes\":[{\"key\":\"url.scheme\",\"value\":{\"stringValue\":\"http\"}},{\"key\":\"thread.name\",\"value\":{\"stringValue\":\"http-nio-5089-exec-9\"}},{\"key\":\"network.peer.port\",\"value\":{\"intValue\":\"34722\"}},{\"key\":\"user_agent.original\",\"value\":{\"stringValue\":\"PostmanRuntime/7.40.0\"}},{\"key\":\"network.protocol.version\",\"value\":{\"stringValue\":\"1.1\"}},{\"key\":\"thread.id\",\"value\":{\"intValue\":\"223\"}},{\"key\":\"http.response.status_code\",\"value\":{\"intValue\":\"200\"}},{\"key\":\"network.peer.address\",\"value\":{\"stringValue\":\"10.128.2.2\"}},{\"key\":\"server.address\",\"value\":{\"stringValue\":\"order-srv-2-observability-testcases.apps.zagaopenshift.zagaopensource.com\"}},{\"key\":\"client.address\",\"value\":{\"stringValue\":\"192.168.31.201\"}},{\"key\":\"url.path\",\"value\":{\"stringValue\":\"/orders/createErrorOrders\"}},{\"key\":\"http.request.method\",\"value\":{\"stringValue\":\"POST\"}},{\"key\":\"http.route\",\"value\":{\"stringValue\":\"/orders/createErrorOrders\"}}],\"status\":{}}]}],\"schemaUrl\":\"https://opentelemetry.io/schemas/1.24.0\"}]}', headers=[], checksum=None, serialized_key_size=-1, serialized_value_size=7418, serialized_header_size=-1)\n",
            "[{'resource': {'attributes': [{'key': 'container.id', 'value': {'stringValue': '5d080326a974eed50a7af5282a1befec82ff0bce982cc13f1a65a74bea1f0f92'}}, {'key': 'host.arch', 'value': {'stringValue': 'amd64'}}, {'key': 'host.name', 'value': {'stringValue': 'order-srv-2-6467857f64-jj2wp'}}, {'key': 'k8s.container.name', 'value': {'stringValue': 'order-srv-2'}}, {'key': 'k8s.deployment.name', 'value': {'stringValue': 'order-srv-2'}}, {'key': 'k8s.namespace.name', 'value': {'stringValue': 'observability-testcases'}}, {'key': 'k8s.node.name', 'value': {'stringValue': 'zagaocp-worker1'}}, {'key': 'k8s.pod.name', 'value': {'stringValue': 'order-srv-2-6467857f64-jj2wp'}}, {'key': 'k8s.replicaset.name', 'value': {'stringValue': 'order-srv-2-6467857f64'}}, {'key': 'os.description', 'value': {'stringValue': 'Linux 5.14.0-284.71.1.el9_2.x86_64'}}, {'key': 'os.type', 'value': {'stringValue': 'linux'}}, {'key': 'process.command_args', 'value': {'arrayValue': {'values': [{'stringValue': '/usr/lib/jvm/java-11-openjdk-11.0.18.0.10-2.el8_7.x86_64/bin/java'}, {'stringValue': '-jar'}, {'stringValue': 'app.jar'}]}}}, {'key': 'process.executable.path', 'value': {'stringValue': '/usr/lib/jvm/java-11-openjdk-11.0.18.0.10-2.el8_7.x86_64/bin/java'}}, {'key': 'process.pid', 'value': {'intValue': '1'}}, {'key': 'process.runtime.description', 'value': {'stringValue': 'Red Hat, Inc. OpenJDK 64-Bit Server VM 11.0.18+10-LTS'}}, {'key': 'process.runtime.name', 'value': {'stringValue': 'OpenJDK Runtime Environment'}}, {'key': 'process.runtime.version', 'value': {'stringValue': '11.0.18+10-LTS'}}, {'key': 'service.instance.id', 'value': {'stringValue': 'observability-testcases.order-srv-2-6467857f64-jj2wp.order-srv-2'}}, {'key': 'service.name', 'value': {'stringValue': 'order-srv-2'}}, {'key': 'service.version', 'value': {'stringValue': 'order-test-2'}}, {'key': 'telemetry.distro.name', 'value': {'stringValue': 'opentelemetry-java-instrumentation'}}, {'key': 'telemetry.distro.version', 'value': {'stringValue': '2.6.0'}}, {'key': 'telemetry.sdk.language', 'value': {'stringValue': 'java'}}, {'key': 'telemetry.sdk.name', 'value': {'stringValue': 'opentelemetry'}}, {'key': 'telemetry.sdk.version', 'value': {'stringValue': '1.40.0'}}]}, 'scopeSpans': [{'scope': {'name': 'io.opentelemetry.spring-data-1.8', 'version': '2.6.0-alpha'}, 'spans': [{'traceId': '99d8082e0d5fd7b4323d486575662296', 'spanId': '35dd73610f62e0f1', 'parentSpanId': 'fd7082d6ba695c22', 'flags': 257, 'name': 'OrderRepo.save', 'kind': 1, 'startTimeUnixNano': '1721929066717679265', 'endTimeUnixNano': '1721929066733617413', 'attributes': [{'key': 'thread.id', 'value': {'intValue': '223'}}, {'key': 'thread.name', 'value': {'stringValue': 'http-nio-5089-exec-9'}}, {'key': 'code.namespace', 'value': {'stringValue': 'com.zaga.OrderProj.OrderRepo'}}, {'key': 'code.function', 'value': {'stringValue': 'save'}}], 'status': {}}]}, {'scope': {'name': 'io.opentelemetry.hibernate-4.0', 'version': '2.6.0-alpha'}, 'spans': [{'traceId': '99d8082e0d5fd7b4323d486575662296', 'spanId': 'f11748b186a90cb5', 'parentSpanId': '35dd73610f62e0f1', 'flags': 257, 'name': 'Session.merge com.zaga.OrderProj.OrderEntity', 'kind': 1, 'startTimeUnixNano': '1721929066726157040', 'endTimeUnixNano': '1721929066731135956', 'attributes': [{'key': 'thread.id', 'value': {'intValue': '223'}}, {'key': 'thread.name', 'value': {'stringValue': 'http-nio-5089-exec-9'}}], 'status': {}}, {'traceId': '99d8082e0d5fd7b4323d486575662296', 'spanId': 'bf6e5cbb3e4f89db', 'parentSpanId': '35dd73610f62e0f1', 'flags': 257, 'name': 'Transaction.commit', 'kind': 1, 'startTimeUnixNano': '1721929066731510340', 'endTimeUnixNano': '1721929066733264771', 'attributes': [{'key': 'thread.id', 'value': {'intValue': '223'}}, {'key': 'thread.name', 'value': {'stringValue': 'http-nio-5089-exec-9'}}], 'status': {}}]}, {'scope': {'name': 'io.opentelemetry.jdbc', 'version': '2.6.0-alpha'}, 'spans': [{'traceId': '99d8082e0d5fd7b4323d486575662296', 'spanId': '12ebde57a35c0609', 'parentSpanId': '35dd73610f62e0f1', 'flags': 257, 'name': 'testcasesdb', 'kind': 3, 'startTimeUnixNano': '1721929066718188478', 'endTimeUnixNano': '1721929066725091261', 'attributes': [{'key': 'thread.id', 'value': {'intValue': '223'}}, {'key': 'thread.name', 'value': {'stringValue': 'http-nio-5089-exec-9'}}, {'key': 'db.name', 'value': {'stringValue': 'testcasesdb'}}, {'key': 'server.port', 'value': {'intValue': '5432'}}, {'key': 'db.connection_string', 'value': {'stringValue': 'postgresql://postgresql-testcase-db.observability-testcases.svc.cluster.local:5432'}}, {'key': 'server.address', 'value': {'stringValue': 'postgresql-testcase-db.observability-testcases.svc.cluster.local'}}, {'key': 'db.user', 'value': {'stringValue': 'testcasesuser'}}, {'key': 'db.statement', 'value': {}}, {'key': 'db.system', 'value': {'stringValue': 'postgresql'}}], 'status': {}}, {'traceId': '99d8082e0d5fd7b4323d486575662296', 'spanId': 'cff1b25bbc9d3056', 'parentSpanId': 'f11748b186a90cb5', 'flags': 257, 'name': 'SELECT testcasesdb.ocp_order_vendor', 'kind': 3, 'startTimeUnixNano': '1721929066727558408', 'endTimeUnixNano': '1721929066729893229', 'attributes': [{'key': 'db.operation', 'value': {'stringValue': 'SELECT'}}, {'key': 'db.sql.table', 'value': {'stringValue': 'ocp_order_vendor'}}, {'key': 'thread.id', 'value': {'intValue': '223'}}, {'key': 'thread.name', 'value': {'stringValue': 'http-nio-5089-exec-9'}}, {'key': 'db.name', 'value': {'stringValue': 'testcasesdb'}}, {'key': 'server.port', 'value': {'intValue': '5432'}}, {'key': 'db.connection_string', 'value': {'stringValue': 'postgresql://postgresql-testcase-db.observability-testcases.svc.cluster.local:5432'}}, {'key': 'server.address', 'value': {'stringValue': 'postgresql-testcase-db.observability-testcases.svc.cluster.local'}}, {'key': 'db.user', 'value': {'stringValue': 'testcasesuser'}}, {'key': 'db.statement', 'value': {'stringValue': 'select orderentit0_.id as id1_0_0_, orderentit0_.customer_id as customer2_0_0_, orderentit0_.customer_name as customer3_0_0_, orderentit0_.customer_phone_number as customer4_0_0_, orderentit0_.model_no as model_no5_0_0_, orderentit0_.order_id as order_id6_0_0_, orderentit0_.product_address as product_7_0_0_, orderentit0_.product_id as product_8_0_0_, orderentit0_.product_name as product_9_0_0_, orderentit0_.quantity as quantit10_0_0_ from ocp_order_vendor orderentit0_ where orderentit0_.id=?'}}, {'key': 'db.system', 'value': {'stringValue': 'postgresql'}}], 'status': {}}]}, {'scope': {'name': 'io.opentelemetry.tomcat-7.0', 'version': '2.6.0-alpha'}, 'spans': [{'traceId': '99d8082e0d5fd7b4323d486575662296', 'spanId': 'fd7082d6ba695c22', 'parentSpanId': '', 'flags': 257, 'name': 'POST /orders/createErrorOrders', 'kind': 2, 'startTimeUnixNano': '1721929066713099000', 'endTimeUnixNano': '1721929066738349842', 'attributes': [{'key': 'url.scheme', 'value': {'stringValue': 'http'}}, {'key': 'thread.name', 'value': {'stringValue': 'http-nio-5089-exec-9'}}, {'key': 'network.peer.port', 'value': {'intValue': '34722'}}, {'key': 'user_agent.original', 'value': {'stringValue': 'PostmanRuntime/7.40.0'}}, {'key': 'network.protocol.version', 'value': {'stringValue': '1.1'}}, {'key': 'thread.id', 'value': {'intValue': '223'}}, {'key': 'http.response.status_code', 'value': {'intValue': '200'}}, {'key': 'network.peer.address', 'value': {'stringValue': '10.128.2.2'}}, {'key': 'server.address', 'value': {'stringValue': 'order-srv-2-observability-testcases.apps.zagaopenshift.zagaopensource.com'}}, {'key': 'client.address', 'value': {'stringValue': '192.168.31.201'}}, {'key': 'url.path', 'value': {'stringValue': '/orders/createErrorOrders'}}, {'key': 'http.request.method', 'value': {'stringValue': 'POST'}}, {'key': 'http.route', 'value': {'stringValue': '/orders/createErrorOrders'}}], 'status': {}}]}], 'schemaUrl': 'https://opentelemetry.io/schemas/1.24.0'}]\n",
            "<class 'str'>\n",
            "<class 'str'>\n",
            "<class 'str'>\n",
            "<class 'str'>\n",
            "<class 'float'>\n",
            "Data appended successfully.\n",
            "final------------- {'servicename': 'order-srv-2', 'language': 'java', 'tracedata': '{\"resourceSpans\": [{\"resource\": {\"attributes\": [{\"key\": \"container.id\", \"value\": {\"stringValue\": \"5d080326a974eed50a7af5282a1befec82ff0bce982cc13f1a65a74bea1f0f92\"}}, {\"key\": \"host.arch\", \"value\": {\"stringValue\": \"amd64\"}}, {\"key\": \"host.name\", \"value\": {\"stringValue\": \"order-srv-2-6467857f64-jj2wp\"}}, {\"key\": \"k8s.container.name\", \"value\": {\"stringValue\": \"order-srv-2\"}}, {\"key\": \"k8s.deployment.name\", \"value\": {\"stringValue\": \"order-srv-2\"}}, {\"key\": \"k8s.namespace.name\", \"value\": {\"stringValue\": \"observability-testcases\"}}, {\"key\": \"k8s.node.name\", \"value\": {\"stringValue\": \"zagaocp-worker1\"}}, {\"key\": \"k8s.pod.name\", \"value\": {\"stringValue\": \"order-srv-2-6467857f64-jj2wp\"}}, {\"key\": \"k8s.replicaset.name\", \"value\": {\"stringValue\": \"order-srv-2-6467857f64\"}}, {\"key\": \"os.description\", \"value\": {\"stringValue\": \"Linux 5.14.0-284.71.1.el9_2.x86_64\"}}, {\"key\": \"os.type\", \"value\": {\"stringValue\": \"linux\"}}, {\"key\": \"process.command_args\", \"value\": {\"arrayValue\": {\"values\": [{\"stringValue\": \"/usr/lib/jvm/java-11-openjdk-11.0.18.0.10-2.el8_7.x86_64/bin/java\"}, {\"stringValue\": \"-jar\"}, {\"stringValue\": \"app.jar\"}]}}}, {\"key\": \"process.executable.path\", \"value\": {\"stringValue\": \"/usr/lib/jvm/java-11-openjdk-11.0.18.0.10-2.el8_7.x86_64/bin/java\"}}, {\"key\": \"process.pid\", \"value\": {\"intValue\": \"1\"}}, {\"key\": \"process.runtime.description\", \"value\": {\"stringValue\": \"Red Hat, Inc. OpenJDK 64-Bit Server VM 11.0.18+10-LTS\"}}, {\"key\": \"process.runtime.name\", \"value\": {\"stringValue\": \"OpenJDK Runtime Environment\"}}, {\"key\": \"process.runtime.version\", \"value\": {\"stringValue\": \"11.0.18+10-LTS\"}}, {\"key\": \"service.instance.id\", \"value\": {\"stringValue\": \"observability-testcases.order-srv-2-6467857f64-jj2wp.order-srv-2\"}}, {\"key\": \"service.name\", \"value\": {\"stringValue\": \"order-srv-2\"}}, {\"key\": \"service.version\", \"value\": {\"stringValue\": \"order-test-2\"}}, {\"key\": \"telemetry.distro.name\", \"value\": {\"stringValue\": \"opentelemetry-java-instrumentation\"}}, {\"key\": \"telemetry.distro.version\", \"value\": {\"stringValue\": \"2.6.0\"}}, {\"key\": \"telemetry.sdk.language\", \"value\": {\"stringValue\": \"java\"}}, {\"key\": \"telemetry.sdk.name\", \"value\": {\"stringValue\": \"opentelemetry\"}}, {\"key\": \"telemetry.sdk.version\", \"value\": {\"stringValue\": \"1.40.0\"}}]}, \"scopeSpans\": [{\"scope\": {\"name\": \"io.opentelemetry.spring-data-1.8\", \"version\": \"2.6.0-alpha\"}, \"spans\": [{\"traceId\": \"99d8082e0d5fd7b4323d486575662296\", \"spanId\": \"35dd73610f62e0f1\", \"parentSpanId\": \"fd7082d6ba695c22\", \"flags\": 257, \"name\": \"OrderRepo.save\", \"kind\": 1, \"startTimeUnixNano\": \"1721929066717679265\", \"endTimeUnixNano\": \"1721929066733617413\", \"attributes\": [{\"key\": \"thread.id\", \"value\": {\"intValue\": \"223\"}}, {\"key\": \"thread.name\", \"value\": {\"stringValue\": \"http-nio-5089-exec-9\"}}, {\"key\": \"code.namespace\", \"value\": {\"stringValue\": \"com.zaga.OrderProj.OrderRepo\"}}, {\"key\": \"code.function\", \"value\": {\"stringValue\": \"save\"}}], \"status\": {}}]}, {\"scope\": {\"name\": \"io.opentelemetry.hibernate-4.0\", \"version\": \"2.6.0-alpha\"}, \"spans\": [{\"traceId\": \"99d8082e0d5fd7b4323d486575662296\", \"spanId\": \"f11748b186a90cb5\", \"parentSpanId\": \"35dd73610f62e0f1\", \"flags\": 257, \"name\": \"Session.merge com.zaga.OrderProj.OrderEntity\", \"kind\": 1, \"startTimeUnixNano\": \"1721929066726157040\", \"endTimeUnixNano\": \"1721929066731135956\", \"attributes\": [{\"key\": \"thread.id\", \"value\": {\"intValue\": \"223\"}}, {\"key\": \"thread.name\", \"value\": {\"stringValue\": \"http-nio-5089-exec-9\"}}], \"status\": {}}, {\"traceId\": \"99d8082e0d5fd7b4323d486575662296\", \"spanId\": \"bf6e5cbb3e4f89db\", \"parentSpanId\": \"35dd73610f62e0f1\", \"flags\": 257, \"name\": \"Transaction.commit\", \"kind\": 1, \"startTimeUnixNano\": \"1721929066731510340\", \"endTimeUnixNano\": \"1721929066733264771\", \"attributes\": [{\"key\": \"thread.id\", \"value\": {\"intValue\": \"223\"}}, {\"key\": \"thread.name\", \"value\": {\"stringValue\": \"http-nio-5089-exec-9\"}}], \"status\": {}}]}, {\"scope\": {\"name\": \"io.opentelemetry.jdbc\", \"version\": \"2.6.0-alpha\"}, \"spans\": [{\"traceId\": \"99d8082e0d5fd7b4323d486575662296\", \"spanId\": \"12ebde57a35c0609\", \"parentSpanId\": \"35dd73610f62e0f1\", \"flags\": 257, \"name\": \"testcasesdb\", \"kind\": 3, \"startTimeUnixNano\": \"1721929066718188478\", \"endTimeUnixNano\": \"1721929066725091261\", \"attributes\": [{\"key\": \"thread.id\", \"value\": {\"intValue\": \"223\"}}, {\"key\": \"thread.name\", \"value\": {\"stringValue\": \"http-nio-5089-exec-9\"}}, {\"key\": \"db.name\", \"value\": {\"stringValue\": \"testcasesdb\"}}, {\"key\": \"server.port\", \"value\": {\"intValue\": \"5432\"}}, {\"key\": \"db.connection_string\", \"value\": {\"stringValue\": \"postgresql://postgresql-testcase-db.observability-testcases.svc.cluster.local:5432\"}}, {\"key\": \"server.address\", \"value\": {\"stringValue\": \"postgresql-testcase-db.observability-testcases.svc.cluster.local\"}}, {\"key\": \"db.user\", \"value\": {\"stringValue\": \"testcasesuser\"}}, {\"key\": \"db.statement\", \"value\": {}}, {\"key\": \"db.system\", \"value\": {\"stringValue\": \"postgresql\"}}], \"status\": {}}, {\"traceId\": \"99d8082e0d5fd7b4323d486575662296\", \"spanId\": \"cff1b25bbc9d3056\", \"parentSpanId\": \"f11748b186a90cb5\", \"flags\": 257, \"name\": \"SELECT testcasesdb.ocp_order_vendor\", \"kind\": 3, \"startTimeUnixNano\": \"1721929066727558408\", \"endTimeUnixNano\": \"1721929066729893229\", \"attributes\": [{\"key\": \"db.operation\", \"value\": {\"stringValue\": \"SELECT\"}}, {\"key\": \"db.sql.table\", \"value\": {\"stringValue\": \"ocp_order_vendor\"}}, {\"key\": \"thread.id\", \"value\": {\"intValue\": \"223\"}}, {\"key\": \"thread.name\", \"value\": {\"stringValue\": \"http-nio-5089-exec-9\"}}, {\"key\": \"db.name\", \"value\": {\"stringValue\": \"testcasesdb\"}}, {\"key\": \"server.port\", \"value\": {\"intValue\": \"5432\"}}, {\"key\": \"db.connection_string\", \"value\": {\"stringValue\": \"postgresql://postgresql-testcase-db.observability-testcases.svc.cluster.local:5432\"}}, {\"key\": \"server.address\", \"value\": {\"stringValue\": \"postgresql-testcase-db.observability-testcases.svc.cluster.local\"}}, {\"key\": \"db.user\", \"value\": {\"stringValue\": \"testcasesuser\"}}, {\"key\": \"db.statement\", \"value\": {\"stringValue\": \"select orderentit0_.id as id1_0_0_, orderentit0_.customer_id as customer2_0_0_, orderentit0_.customer_name as customer3_0_0_, orderentit0_.customer_phone_number as customer4_0_0_, orderentit0_.model_no as model_no5_0_0_, orderentit0_.order_id as order_id6_0_0_, orderentit0_.product_address as product_7_0_0_, orderentit0_.product_id as product_8_0_0_, orderentit0_.product_name as product_9_0_0_, orderentit0_.quantity as quantit10_0_0_ from ocp_order_vendor orderentit0_ where orderentit0_.id=?\"}}, {\"key\": \"db.system\", \"value\": {\"stringValue\": \"postgresql\"}}], \"status\": {}}]}, {\"scope\": {\"name\": \"io.opentelemetry.tomcat-7.0\", \"version\": \"2.6.0-alpha\"}, \"spans\": [{\"traceId\": \"99d8082e0d5fd7b4323d486575662296\", \"spanId\": \"fd7082d6ba695c22\", \"parentSpanId\": \"\", \"flags\": 257, \"name\": \"POST /orders/createErrorOrders\", \"kind\": 2, \"startTimeUnixNano\": \"1721929066713099000\", \"endTimeUnixNano\": \"1721929066738349842\", \"attributes\": [{\"key\": \"url.scheme\", \"value\": {\"stringValue\": \"http\"}}, {\"key\": \"thread.name\", \"value\": {\"stringValue\": \"http-nio-5089-exec-9\"}}, {\"key\": \"network.peer.port\", \"value\": {\"intValue\": \"34722\"}}, {\"key\": \"user_agent.original\", \"value\": {\"stringValue\": \"PostmanRuntime/7.40.0\"}}, {\"key\": \"network.protocol.version\", \"value\": {\"stringValue\": \"1.1\"}}, {\"key\": \"thread.id\", \"value\": {\"intValue\": \"223\"}}, {\"key\": \"http.response.status_code\", \"value\": {\"intValue\": \"200\"}}, {\"key\": \"network.peer.address\", \"value\": {\"stringValue\": \"10.128.2.2\"}}, {\"key\": \"server.address\", \"value\": {\"stringValue\": \"order-srv-2-observability-testcases.apps.zagaopenshift.zagaopensource.com\"}}, {\"key\": \"client.address\", \"value\": {\"stringValue\": \"192.168.31.201\"}}, {\"key\": \"url.path\", \"value\": {\"stringValue\": \"/orders/createErrorOrders\"}}, {\"key\": \"http.request.method\", \"value\": {\"stringValue\": \"POST\"}}, {\"key\": \"http.route\", \"value\": {\"stringValue\": \"/orders/createErrorOrders\"}}], \"status\": {}}]}], \"schemaUrl\": \"https://opentelemetry.io/schemas/1.24.0\"}]}', 'createdTime': datetime.datetime(2024, 7, 25, 23, 7, 46, 713099), 'traceId': '99d8082e0d5fd7b4323d486575662296', 'startUnixNanoTime': 1721929066713099000, 'endUnixNanoTime': 1721929066738349842, 'duration': 0.025250842, 'requestRoute': '/orders/createErrorOrders', 'requestMethod': 'POST', 'responseStatusCode': '200'}\n",
            "{'resourceSpans': [{'resource': {'attributes': [{'key': 'container.id', 'value': {'stringValue': '5d080326a974eed50a7af5282a1befec82ff0bce982cc13f1a65a74bea1f0f92'}}, {'key': 'host.arch', 'value': {'stringValue': 'amd64'}}, {'key': 'host.name', 'value': {'stringValue': 'order-srv-2-6467857f64-jj2wp'}}, {'key': 'k8s.container.name', 'value': {'stringValue': 'order-srv-2'}}, {'key': 'k8s.deployment.name', 'value': {'stringValue': 'order-srv-2'}}, {'key': 'k8s.namespace.name', 'value': {'stringValue': 'observability-testcases'}}, {'key': 'k8s.node.name', 'value': {'stringValue': 'zagaocp-worker1'}}, {'key': 'k8s.pod.name', 'value': {'stringValue': 'order-srv-2-6467857f64-jj2wp'}}, {'key': 'k8s.replicaset.name', 'value': {'stringValue': 'order-srv-2-6467857f64'}}, {'key': 'os.description', 'value': {'stringValue': 'Linux 5.14.0-284.71.1.el9_2.x86_64'}}, {'key': 'os.type', 'value': {'stringValue': 'linux'}}, {'key': 'process.command_args', 'value': {'arrayValue': {'values': [{'stringValue': '/usr/lib/jvm/java-11-openjdk-11.0.18.0.10-2.el8_7.x86_64/bin/java'}, {'stringValue': '-jar'}, {'stringValue': 'app.jar'}]}}}, {'key': 'process.executable.path', 'value': {'stringValue': '/usr/lib/jvm/java-11-openjdk-11.0.18.0.10-2.el8_7.x86_64/bin/java'}}, {'key': 'process.pid', 'value': {'intValue': '1'}}, {'key': 'process.runtime.description', 'value': {'stringValue': 'Red Hat, Inc. OpenJDK 64-Bit Server VM 11.0.18+10-LTS'}}, {'key': 'process.runtime.name', 'value': {'stringValue': 'OpenJDK Runtime Environment'}}, {'key': 'process.runtime.version', 'value': {'stringValue': '11.0.18+10-LTS'}}, {'key': 'service.instance.id', 'value': {'stringValue': 'observability-testcases.order-srv-2-6467857f64-jj2wp.order-srv-2'}}, {'key': 'service.name', 'value': {'stringValue': 'order-srv-2'}}, {'key': 'service.version', 'value': {'stringValue': 'order-test-2'}}, {'key': 'telemetry.distro.name', 'value': {'stringValue': 'opentelemetry-java-instrumentation'}}, {'key': 'telemetry.distro.version', 'value': {'stringValue': '2.6.0'}}, {'key': 'telemetry.sdk.language', 'value': {'stringValue': 'java'}}, {'key': 'telemetry.sdk.name', 'value': {'stringValue': 'opentelemetry'}}, {'key': 'telemetry.sdk.version', 'value': {'stringValue': '1.40.0'}}]}, 'scopeSpans': [{'scope': {'name': 'io.opentelemetry.spring-data-1.8', 'version': '2.6.0-alpha'}, 'spans': [{'traceId': '99d8082e0d5fd7b4323d486575662296', 'spanId': '35dd73610f62e0f1', 'parentSpanId': 'fd7082d6ba695c22', 'flags': 257, 'name': 'OrderRepo.save', 'kind': 1, 'startTimeUnixNano': '1721929066717679265', 'endTimeUnixNano': '1721929066733617413', 'attributes': [{'key': 'thread.id', 'value': {'intValue': '223'}}, {'key': 'thread.name', 'value': {'stringValue': 'http-nio-5089-exec-9'}}, {'key': 'code.namespace', 'value': {'stringValue': 'com.zaga.OrderProj.OrderRepo'}}, {'key': 'code.function', 'value': {'stringValue': 'save'}}], 'status': {}}]}, {'scope': {'name': 'io.opentelemetry.hibernate-4.0', 'version': '2.6.0-alpha'}, 'spans': [{'traceId': '99d8082e0d5fd7b4323d486575662296', 'spanId': 'f11748b186a90cb5', 'parentSpanId': '35dd73610f62e0f1', 'flags': 257, 'name': 'Session.merge com.zaga.OrderProj.OrderEntity', 'kind': 1, 'startTimeUnixNano': '1721929066726157040', 'endTimeUnixNano': '1721929066731135956', 'attributes': [{'key': 'thread.id', 'value': {'intValue': '223'}}, {'key': 'thread.name', 'value': {'stringValue': 'http-nio-5089-exec-9'}}], 'status': {}}, {'traceId': '99d8082e0d5fd7b4323d486575662296', 'spanId': 'bf6e5cbb3e4f89db', 'parentSpanId': '35dd73610f62e0f1', 'flags': 257, 'name': 'Transaction.commit', 'kind': 1, 'startTimeUnixNano': '1721929066731510340', 'endTimeUnixNano': '1721929066733264771', 'attributes': [{'key': 'thread.id', 'value': {'intValue': '223'}}, {'key': 'thread.name', 'value': {'stringValue': 'http-nio-5089-exec-9'}}], 'status': {}}]}, {'scope': {'name': 'io.opentelemetry.jdbc', 'version': '2.6.0-alpha'}, 'spans': [{'traceId': '99d8082e0d5fd7b4323d486575662296', 'spanId': '12ebde57a35c0609', 'parentSpanId': '35dd73610f62e0f1', 'flags': 257, 'name': 'testcasesdb', 'kind': 3, 'startTimeUnixNano': '1721929066718188478', 'endTimeUnixNano': '1721929066725091261', 'attributes': [{'key': 'thread.id', 'value': {'intValue': '223'}}, {'key': 'thread.name', 'value': {'stringValue': 'http-nio-5089-exec-9'}}, {'key': 'db.name', 'value': {'stringValue': 'testcasesdb'}}, {'key': 'server.port', 'value': {'intValue': '5432'}}, {'key': 'db.connection_string', 'value': {'stringValue': 'postgresql://postgresql-testcase-db.observability-testcases.svc.cluster.local:5432'}}, {'key': 'server.address', 'value': {'stringValue': 'postgresql-testcase-db.observability-testcases.svc.cluster.local'}}, {'key': 'db.user', 'value': {'stringValue': 'testcasesuser'}}, {'key': 'db.statement', 'value': {}}, {'key': 'db.system', 'value': {'stringValue': 'postgresql'}}], 'status': {}}, {'traceId': '99d8082e0d5fd7b4323d486575662296', 'spanId': 'cff1b25bbc9d3056', 'parentSpanId': 'f11748b186a90cb5', 'flags': 257, 'name': 'SELECT testcasesdb.ocp_order_vendor', 'kind': 3, 'startTimeUnixNano': '1721929066727558408', 'endTimeUnixNano': '1721929066729893229', 'attributes': [{'key': 'db.operation', 'value': {'stringValue': 'SELECT'}}, {'key': 'db.sql.table', 'value': {'stringValue': 'ocp_order_vendor'}}, {'key': 'thread.id', 'value': {'intValue': '223'}}, {'key': 'thread.name', 'value': {'stringValue': 'http-nio-5089-exec-9'}}, {'key': 'db.name', 'value': {'stringValue': 'testcasesdb'}}, {'key': 'server.port', 'value': {'intValue': '5432'}}, {'key': 'db.connection_string', 'value': {'stringValue': 'postgresql://postgresql-testcase-db.observability-testcases.svc.cluster.local:5432'}}, {'key': 'server.address', 'value': {'stringValue': 'postgresql-testcase-db.observability-testcases.svc.cluster.local'}}, {'key': 'db.user', 'value': {'stringValue': 'testcasesuser'}}, {'key': 'db.statement', 'value': {'stringValue': 'select orderentit0_.id as id1_0_0_, orderentit0_.customer_id as customer2_0_0_, orderentit0_.customer_name as customer3_0_0_, orderentit0_.customer_phone_number as customer4_0_0_, orderentit0_.model_no as model_no5_0_0_, orderentit0_.order_id as order_id6_0_0_, orderentit0_.product_address as product_7_0_0_, orderentit0_.product_id as product_8_0_0_, orderentit0_.product_name as product_9_0_0_, orderentit0_.quantity as quantit10_0_0_ from ocp_order_vendor orderentit0_ where orderentit0_.id=?'}}, {'key': 'db.system', 'value': {'stringValue': 'postgresql'}}], 'status': {}}]}, {'scope': {'name': 'io.opentelemetry.tomcat-7.0', 'version': '2.6.0-alpha'}, 'spans': [{'traceId': '99d8082e0d5fd7b4323d486575662296', 'spanId': 'fd7082d6ba695c22', 'parentSpanId': '', 'flags': 257, 'name': 'POST /orders/createErrorOrders', 'kind': 2, 'startTimeUnixNano': '1721929066713099000', 'endTimeUnixNano': '1721929066738349842', 'attributes': [{'key': 'url.scheme', 'value': {'stringValue': 'http'}}, {'key': 'thread.name', 'value': {'stringValue': 'http-nio-5089-exec-9'}}, {'key': 'network.peer.port', 'value': {'intValue': '34722'}}, {'key': 'user_agent.original', 'value': {'stringValue': 'PostmanRuntime/7.40.0'}}, {'key': 'network.protocol.version', 'value': {'stringValue': '1.1'}}, {'key': 'thread.id', 'value': {'intValue': '223'}}, {'key': 'http.response.status_code', 'value': {'intValue': '200'}}, {'key': 'network.peer.address', 'value': {'stringValue': '10.128.2.2'}}, {'key': 'server.address', 'value': {'stringValue': 'order-srv-2-observability-testcases.apps.zagaopenshift.zagaopensource.com'}}, {'key': 'client.address', 'value': {'stringValue': '192.168.31.201'}}, {'key': 'url.path', 'value': {'stringValue': '/orders/createErrorOrders'}}, {'key': 'http.request.method', 'value': {'stringValue': 'POST'}}, {'key': 'http.route', 'value': {'stringValue': '/orders/createErrorOrders'}}], 'status': {}}]}], 'schemaUrl': 'https://opentelemetry.io/schemas/1.24.0'}]}\n",
            "Message consumption closed.\n"
          ]
        }
      ],
      "source": [
        "import pyarrow as pa\n",
        "from datetime import datetime\n",
        "import json\n",
        "def append_data(data):\n",
        "  final={}\n",
        "  traceId = \"\"\n",
        "  route = \"\"\n",
        "  method = \"\"\n",
        "  status_code = \"\"\n",
        "\n",
        "  resourceSpans = data.get('resourceSpans',[])\n",
        "  print(resourceSpans)\n",
        "  for resourceSpan in resourceSpans:\n",
        "    for key in resourceSpan['resource']['attributes'] :\n",
        "      if(key['key']=='service.name'):\n",
        "        final.update({\n",
        "            \"servicename\":key['value']['stringValue'],           \n",
        "        })\n",
        "      if(key['key']=='telemetry.sdk.language'):\n",
        "        final.update({\n",
        "            \"language\":key['value']['stringValue'],\n",
        "            \"tracedata\":json.dumps(data)\n",
        "        })\n",
        "    for field in resourceSpan['scopeSpans']:  \n",
        "      startTimeUnixNano = ((field['spans'][0].get('startTimeUnixNano')))\n",
        "      for span in field['spans']:\n",
        "        traceId = span.get('traceId')\n",
        "        endTimeUnixNano = (span.get('endTimeUnixNano'))\n",
        "        for attribute in span['attributes']:\n",
        "          if attribute.get('key',{}) == \"http.route\":\n",
        "              route = attribute.get('value',{}).get('stringValue')\n",
        "          if attribute.get('key',{}) == \"http.request.method\":\n",
        "              method = attribute.get('value',{}).get('stringValue')\n",
        "          if attribute.get('key',{}) == \"http.response.status_code\":\n",
        "              status_code = attribute.get('value',{}).get('intValue')\n",
        "      createdTime = datetime.fromtimestamp(int(startTimeUnixNano)/ 1e9)\n",
        "    duration = (int(endTimeUnixNano) - int(startTimeUnixNano))/1e9\n",
        "  final.update({\"createdTime\": createdTime, \n",
        "                \"traceId\": traceId, \n",
        "                \"startUnixNanoTime\": int(startTimeUnixNano), \n",
        "                \"endUnixNanoTime\": int(endTimeUnixNano), \n",
        "                \"duration\": (duration), \n",
        "                \"requestRoute\": route, \n",
        "                \"requestMethod\": method, \n",
        "                \"responseStatusCode\": status_code})\n",
        "  df=pa.Table.from_pylist([final])\n",
        "  tracetable.append(df)\n",
        "  print(\"Data appended successfully.\")\n",
        "  final={}\n",
        "messages=[]\n",
        "try:\n",
        "  for message in consumer:\n",
        "      data = json.loads(message.value.decode('utf-8'))\n",
        "      append_data(data)\n",
        "      messages.append(data)\n",
        "      if(len(messages) > 5 ):\n",
        "        consumer.close()\n",
        "except Exception as e:\n",
        "  print(f\"Error consuming messages: {e}\")\n",
        "finally:\n",
        "  consumer.close()\n",
        "  print(\"Message consumption closed.\")\n",
        "\n"
      ]
    },
    {
      "cell_type": "code",
      "execution_count": null,
      "metadata": {},
      "outputs": [],
      "source": []
    }
  ],
  "metadata": {
    "colab": {
      "provenance": []
    },
    "kernelspec": {
      "display_name": "Python 3",
      "name": "python3"
    },
    "language_info": {
      "codemirror_mode": {
        "name": "ipython",
        "version": 3
      },
      "file_extension": ".py",
      "mimetype": "text/x-python",
      "name": "python",
      "nbconvert_exporter": "python",
      "pygments_lexer": "ipython3",
      "version": "3.9.18"
    }
  },
  "nbformat": 4,
  "nbformat_minor": 0
}

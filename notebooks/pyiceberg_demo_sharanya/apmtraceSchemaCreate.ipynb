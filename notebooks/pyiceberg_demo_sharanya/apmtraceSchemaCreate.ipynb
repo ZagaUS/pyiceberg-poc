{
  "cells": [
    {
      "cell_type": "code",
      "execution_count": 1,
      "metadata": {
        "id": "78Ojw8_amUNH"
      },
      "outputs": [
        {
          "name": "stdout",
          "output_type": "stream",
          "text": [
            "Defaulting to user installation because normal site-packages is not writeable\n",
            "Requirement already satisfied: pyiceberg[hive,s3fs] in /home/sharanya/.local/lib/python3.9/site-packages (0.6.1)\n",
            "Requirement already satisfied: rich<14.0.0,>=10.11.0 in /home/sharanya/.local/lib/python3.9/site-packages (from pyiceberg[hive,s3fs]) (13.7.1)\n",
            "Requirement already satisfied: pyparsing<4.0.0,>=3.1.0 in /home/sharanya/.local/lib/python3.9/site-packages (from pyiceberg[hive,s3fs]) (3.1.2)\n",
            "Requirement already satisfied: fsspec<2024.1.0,>=2023.1.0 in /home/sharanya/.local/lib/python3.9/site-packages (from pyiceberg[hive,s3fs]) (2023.12.2)\n",
            "Requirement already satisfied: requests<3.0.0,>=2.20.0 in /home/sharanya/.local/lib/python3.9/site-packages (from pyiceberg[hive,s3fs]) (2.31.0)\n",
            "Requirement already satisfied: strictyaml<2.0.0,>=1.7.0 in /home/sharanya/.local/lib/python3.9/site-packages (from pyiceberg[hive,s3fs]) (1.7.3)\n",
            "Requirement already satisfied: sortedcontainers==2.4.0 in /home/sharanya/.local/lib/python3.9/site-packages (from pyiceberg[hive,s3fs]) (2.4.0)\n",
            "Requirement already satisfied: mmhash3<4.0.0,>=3.0.0 in /home/sharanya/.local/lib/python3.9/site-packages (from pyiceberg[hive,s3fs]) (3.0.1)\n",
            "Requirement already satisfied: click<9.0.0,>=7.1.1 in /home/sharanya/.local/lib/python3.9/site-packages (from pyiceberg[hive,s3fs]) (8.1.7)\n",
            "Requirement already satisfied: pydantic!=2.4.0,!=2.4.1,<3.0,>=2.0 in /home/sharanya/.local/lib/python3.9/site-packages (from pyiceberg[hive,s3fs]) (2.7.1)\n",
            "Requirement already satisfied: thrift<1.0.0,>=0.13.0 in /home/sharanya/.local/lib/python3.9/site-packages (from pyiceberg[hive,s3fs]) (0.20.0)\n",
            "Requirement already satisfied: s3fs<2024.1.0,>=2023.1.0 in /home/sharanya/.local/lib/python3.9/site-packages (from pyiceberg[hive,s3fs]) (2023.12.2)\n",
            "Requirement already satisfied: pydantic-core==2.18.2 in /home/sharanya/.local/lib/python3.9/site-packages (from pydantic!=2.4.0,!=2.4.1,<3.0,>=2.0->pyiceberg[hive,s3fs]) (2.18.2)\n",
            "Requirement already satisfied: annotated-types>=0.4.0 in /home/sharanya/.local/lib/python3.9/site-packages (from pydantic!=2.4.0,!=2.4.1,<3.0,>=2.0->pyiceberg[hive,s3fs]) (0.6.0)\n",
            "Requirement already satisfied: typing-extensions>=4.6.1 in /home/sharanya/.local/lib/python3.9/site-packages (from pydantic!=2.4.0,!=2.4.1,<3.0,>=2.0->pyiceberg[hive,s3fs]) (4.11.0)\n",
            "Requirement already satisfied: urllib3<3,>=1.21.1 in /home/sharanya/.local/lib/python3.9/site-packages (from requests<3.0.0,>=2.20.0->pyiceberg[hive,s3fs]) (1.26.19)\n",
            "Requirement already satisfied: charset-normalizer<4,>=2 in /home/sharanya/.local/lib/python3.9/site-packages (from requests<3.0.0,>=2.20.0->pyiceberg[hive,s3fs]) (3.3.2)\n",
            "Requirement already satisfied: certifi>=2017.4.17 in /home/sharanya/.local/lib/python3.9/site-packages (from requests<3.0.0,>=2.20.0->pyiceberg[hive,s3fs]) (2024.2.2)\n",
            "Requirement already satisfied: idna<4,>=2.5 in /home/sharanya/.local/lib/python3.9/site-packages (from requests<3.0.0,>=2.20.0->pyiceberg[hive,s3fs]) (3.7)\n",
            "Requirement already satisfied: markdown-it-py>=2.2.0 in /home/sharanya/.local/lib/python3.9/site-packages (from rich<14.0.0,>=10.11.0->pyiceberg[hive,s3fs]) (3.0.0)\n",
            "Requirement already satisfied: pygments<3.0.0,>=2.13.0 in /home/sharanya/.local/lib/python3.9/site-packages (from rich<14.0.0,>=10.11.0->pyiceberg[hive,s3fs]) (2.18.0)\n",
            "Requirement already satisfied: mdurl~=0.1 in /home/sharanya/.local/lib/python3.9/site-packages (from markdown-it-py>=2.2.0->rich<14.0.0,>=10.11.0->pyiceberg[hive,s3fs]) (0.1.2)\n",
            "Requirement already satisfied: aiohttp!=4.0.0a0,!=4.0.0a1 in /home/sharanya/.local/lib/python3.9/site-packages (from s3fs<2024.1.0,>=2023.1.0->pyiceberg[hive,s3fs]) (3.9.5)\n",
            "Requirement already satisfied: aiobotocore<3.0.0,>=2.5.4 in /home/sharanya/.local/lib/python3.9/site-packages (from s3fs<2024.1.0,>=2023.1.0->pyiceberg[hive,s3fs]) (2.13.1)\n",
            "Requirement already satisfied: aioitertools<1.0.0,>=0.5.1 in /home/sharanya/.local/lib/python3.9/site-packages (from aiobotocore<3.0.0,>=2.5.4->s3fs<2024.1.0,>=2023.1.0->pyiceberg[hive,s3fs]) (0.11.0)\n",
            "Requirement already satisfied: wrapt<2.0.0,>=1.10.10 in /home/sharanya/.local/lib/python3.9/site-packages (from aiobotocore<3.0.0,>=2.5.4->s3fs<2024.1.0,>=2023.1.0->pyiceberg[hive,s3fs]) (1.16.0)\n",
            "Requirement already satisfied: botocore<1.34.132,>=1.34.70 in /home/sharanya/.local/lib/python3.9/site-packages (from aiobotocore<3.0.0,>=2.5.4->s3fs<2024.1.0,>=2023.1.0->pyiceberg[hive,s3fs]) (1.34.131)\n",
            "Requirement already satisfied: frozenlist>=1.1.1 in /home/sharanya/.local/lib/python3.9/site-packages (from aiohttp!=4.0.0a0,!=4.0.0a1->s3fs<2024.1.0,>=2023.1.0->pyiceberg[hive,s3fs]) (1.4.1)\n",
            "Requirement already satisfied: multidict<7.0,>=4.5 in /home/sharanya/.local/lib/python3.9/site-packages (from aiohttp!=4.0.0a0,!=4.0.0a1->s3fs<2024.1.0,>=2023.1.0->pyiceberg[hive,s3fs]) (6.0.5)\n",
            "Requirement already satisfied: aiosignal>=1.1.2 in /home/sharanya/.local/lib/python3.9/site-packages (from aiohttp!=4.0.0a0,!=4.0.0a1->s3fs<2024.1.0,>=2023.1.0->pyiceberg[hive,s3fs]) (1.3.1)\n",
            "Requirement already satisfied: async-timeout<5.0,>=4.0 in /home/sharanya/.local/lib/python3.9/site-packages (from aiohttp!=4.0.0a0,!=4.0.0a1->s3fs<2024.1.0,>=2023.1.0->pyiceberg[hive,s3fs]) (4.0.3)\n",
            "Requirement already satisfied: yarl<2.0,>=1.0 in /home/sharanya/.local/lib/python3.9/site-packages (from aiohttp!=4.0.0a0,!=4.0.0a1->s3fs<2024.1.0,>=2023.1.0->pyiceberg[hive,s3fs]) (1.9.4)\n",
            "Requirement already satisfied: attrs>=17.3.0 in /home/sharanya/.local/lib/python3.9/site-packages (from aiohttp!=4.0.0a0,!=4.0.0a1->s3fs<2024.1.0,>=2023.1.0->pyiceberg[hive,s3fs]) (23.2.0)\n",
            "Requirement already satisfied: jmespath<2.0.0,>=0.7.1 in /home/sharanya/.local/lib/python3.9/site-packages (from botocore<1.34.132,>=1.34.70->aiobotocore<3.0.0,>=2.5.4->s3fs<2024.1.0,>=2023.1.0->pyiceberg[hive,s3fs]) (1.0.1)\n",
            "Requirement already satisfied: python-dateutil<3.0.0,>=2.1 in /home/sharanya/.local/lib/python3.9/site-packages (from botocore<1.34.132,>=1.34.70->aiobotocore<3.0.0,>=2.5.4->s3fs<2024.1.0,>=2023.1.0->pyiceberg[hive,s3fs]) (2.9.0.post0)\n",
            "Requirement already satisfied: six>=1.5 in /home/sharanya/.local/lib/python3.9/site-packages (from python-dateutil<3.0.0,>=2.1->botocore<1.34.132,>=1.34.70->aiobotocore<3.0.0,>=2.5.4->s3fs<2024.1.0,>=2023.1.0->pyiceberg[hive,s3fs]) (1.16.0)\n",
            "\u001b[33mWARNING: Value for scheme.platlib does not match. Please report this to <https://github.com/pypa/pip/issues/10151>\n",
            "distutils: /home/sharanya/.local/lib/python3.9/site-packages\n",
            "sysconfig: /home/sharanya/.local/lib64/python3.9/site-packages\u001b[0m\n",
            "\u001b[33mWARNING: Additional context:\n",
            "user = True\n",
            "home = None\n",
            "root = None\n",
            "prefix = None\u001b[0m\n"
          ]
        }
      ],
      "source": [
        "!pip install \"pyiceberg[s3fs,hive]\""
      ]
    },
    {
      "cell_type": "code",
      "execution_count": 2,
      "metadata": {
        "id": "qf0Yf3bzmm9S"
      },
      "outputs": [],
      "source": [
        "from pyiceberg.catalog import load_catalog\n",
        "catalog = load_catalog(\n",
        "        \"docs\",\n",
        "    **{\n",
        "            \"uri\": \"thrift://hive-ms-trino.apps.zagaopenshift.zagaopensource.com:9888\",\n",
        "            \"s3.endpoint\": \"http://minio-lb.apps.zagaopenshift.zagaopensource.com:9009\",\n",
        "            \"py-io-impl\": \"pyiceberg.io.pyarrow.PyArrowFileIO\",\n",
        "            \"s3.access-key-id\": \"minioAdmin\",\n",
        "            \"s3.secret-access-key\": \"minio1234\",\n",
        "    }\n",
        ")"
      ]
    },
    {
      "cell_type": "code",
      "execution_count": 15,
      "metadata": {
        "colab": {
          "base_uri": "https://localhost:8080/"
        },
        "id": "oyISAu2FCLKy",
        "outputId": "7db48129-948e-4d5d-8aae-ad54da36444d"
      },
      "outputs": [
        {
          "name": "stdout",
          "output_type": "stream",
          "text": [
            "[('apm_trace',), ('data',), ('default',), ('demo_data',), ('demo_saro',), ('demo_trace',), ('docs_check',), ('docs_logs',), ('docs_mari',), ('docs_powerleveldata',), ('docs_raja',), ('docs_sa',), ('docs_sar',), ('docs_saro',), ('docs_selva',), ('hi',), ('hlo',), ('ingesting',), ('new',), ('old',), ('poc',), ('pod',), ('pod_data',), ('power_pod',), ('powerlevelpoddata',), ('powerpod',), ('saravan',), ('saravana',), ('saro',), ('saro_data',), ('sh',), ('sha',), ('sha_trace',), ('sharanya',), ('sk',), ('soh',), ('trace_in',), ('trace_inge',), ('trace_ingest',), ('trace_ingestion',), ('trace_ingestion_data',)]\n",
            "Namespace create suceesss\n"
          ]
        }
      ],
      "source": [
        "namespace=\"ingesttrace\" #enter namespace\n",
        "ns=catalog.list_namespaces()\n",
        "print(ns)\n",
        "if((namespace,) in ns):\n",
        "  print(\"Namespace alredy exists\")\n",
        "else:\n",
        "  catalog.create_namespace(namespace)\n",
        "  print(\"Namespace create suceesss\")\n",
        "\n"
      ]
    },
    {
      "cell_type": "code",
      "execution_count": 45,
      "metadata": {
        "id": "mENUOMJTGmpg"
      },
      "outputs": [],
      "source": [
        "# catalog.drop_namespace(\"docs_trace\")"
      ]
    },
    {
      "cell_type": "markdown",
      "metadata": {},
      "source": []
    },
    {
      "cell_type": "code",
      "execution_count": 22,
      "metadata": {
        "colab": {
          "base_uri": "https://localhost:8080/"
        },
        "id": "m4MIHCW9E9xF",
        "outputId": "c3cfdf12-1856-46e7-fab8-de6a049cab4e"
      },
      "outputs": [
        {
          "name": "stdout",
          "output_type": "stream",
          "text": [
            "Table 'traces' created successfully.\n"
          ]
        }
      ],
      "source": [
        "from pyiceberg.schema import Schema\n",
        "from pyiceberg.types import (\n",
        "    TimestampType,\n",
        "    LongType,\n",
        "    IntegerType,\n",
        "    FloatType,\n",
        "    DoubleType,\n",
        "    StringType,\n",
        "    NestedField,\n",
        "    StructType,\n",
        "    ListType\n",
        ")\n",
        "from pyiceberg.partitioning import PartitionSpec, PartitionField\n",
        "from pyiceberg.transforms import DayTransform\n",
        "from pyiceberg.table.sorting import SortOrder, SortField\n",
        "from pyiceberg.transforms import IdentityTransform\n",
        "\n",
        "# Define the schema for the spans\n",
        "schema = Schema(\n",
        "    NestedField(field_id=1, name=\"servicename\", field_type=StringType(), required=False),\n",
        "    NestedField(field_id=2, name=\"language\", field_type=StringType(), required=False),\n",
        "    NestedField(field_id=3, name=\"tracedata\", field_type=StringType(), required=False),\n",
        "    NestedField(field_id=4, name=\"createdTime\", field_type=TimestampType(), required=False),\n",
        "    NestedField(field_id=5, name=\"traceId\", field_type=StringType(), required=False),\n",
        "    NestedField(field_id=6, name=\"startUnixNanoTime\", field_type=LongType(), required=False),\n",
        "    NestedField(field_id=7, name=\"endUnixNanoTime\", field_type=LongType(), required=False),\n",
        "    NestedField(field_id=8, name=\"duration\", field_type=DoubleType(), required=False),\n",
        "    NestedField(field_id=9, name=\"requestRoute\", field_type=StringType(), required=False),\n",
        "    NestedField(field_id=10, name=\"requestMethod\", field_type=StringType(), required=False),\n",
        "    NestedField(field_id=11, name=\"responseStatusCode\", field_type=StringType(), required=False), \n",
        ")\n",
        "\n",
        "# partition_spec = PartitionSpec(\n",
        "#     PartitionField(\n",
        "#         source_id=1, field_id=1000, transform=DayTransform(), name=\"datetime_day\"\n",
        "#     )\n",
        "# )\n",
        "\n",
        "sort_order = SortOrder(SortField(source_id=3, transform=IdentityTransform()))\n",
        "\n",
        "table_name = \"traces\"  # Define your table identifier\n",
        "\n",
        "\n",
        "table = catalog.create_table(\n",
        "    identifier=(namespace, table_name),\n",
        "    schema=schema,\n",
        "    location=\"s3a://ingesttrace/traces\", #mention s3 bucketname\n",
        "    # partition_spec=partition_spec,\n",
        "    sort_order=sort_order,\n",
        ")\n",
        "print(f\"Table '{table_name}' created successfully.\")\n",
        "\n"
      ]
    },
    {
      "cell_type": "code",
      "execution_count": 8,
      "metadata": {
        "colab": {
          "base_uri": "https://localhost:8080/"
        },
        "id": "lv54xyb1Lnk6",
        "outputId": "38aff1cc-afcd-4cfa-bb75-96906c471c0e"
      },
      "outputs": [
        {
          "data": {
            "text/plain": [
              "Schema(NestedField(field_id=1, name='servicename', field_type=StringType(), required=False), NestedField(field_id=2, name='language', field_type=StringType(), required=False), NestedField(field_id=3, name='tracedata', field_type=StringType(), required=False), NestedField(field_id=4, name='createdTime', field_type=TimestampType(), required=False), NestedField(field_id=5, name='traceId', field_type=StringType(), required=False), NestedField(field_id=6, name='startUnixNanoTime', field_type=LongType(), required=False), NestedField(field_id=7, name='endUnixNanoTime', field_type=LongType(), required=False), NestedField(field_id=8, name='duration', field_type=FloatType(), required=False), NestedField(field_id=9, name='requestRoute', field_type=StringType(), required=False), NestedField(field_id=10, name='requestMethod', field_type=StringType(), required=False), NestedField(field_id=11, name='responseStatusCode', field_type=StringType(), required=False), schema_id=0, identifier_field_ids=[])"
            ]
          },
          "execution_count": 8,
          "metadata": {},
          "output_type": "execute_result"
        }
      ],
      "source": [
        "table.schema()"
      ]
    },
    {
      "cell_type": "code",
      "execution_count": 23,
      "metadata": {
        "colab": {
          "base_uri": "https://localhost:8080/"
        },
        "id": "ApxkdKkBF2Hl",
        "outputId": "c3c33275-95f6-4b95-8eb0-219ad8925447"
      },
      "outputs": [
        {
          "data": {
            "text/plain": [
              "[('ingesttrace', 'traces')]"
            ]
          },
          "execution_count": 23,
          "metadata": {},
          "output_type": "execute_result"
        }
      ],
      "source": [
        "catalog.list_tables(\"ingesttrace\")  #mention namespace"
      ]
    },
    {
      "cell_type": "code",
      "execution_count": 21,
      "metadata": {
        "id": "QBYCQvN9GcP4"
      },
      "outputs": [],
      "source": [
        "catalog.drop_table(\"ingesttrace.traces\") #mention namespace and tablename"
      ]
    }
  ],
  "metadata": {
    "colab": {
      "provenance": []
    },
    "kernelspec": {
      "display_name": "Python 3",
      "name": "python3"
    },
    "language_info": {
      "codemirror_mode": {
        "name": "ipython",
        "version": 3
      },
      "file_extension": ".py",
      "mimetype": "text/x-python",
      "name": "python",
      "nbconvert_exporter": "python",
      "pygments_lexer": "ipython3",
      "version": "3.9.18"
    }
  },
  "nbformat": 4,
  "nbformat_minor": 0
}

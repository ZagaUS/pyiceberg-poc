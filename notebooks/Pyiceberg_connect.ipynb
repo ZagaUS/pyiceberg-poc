{
 "cells": [
  {
   "cell_type": "code",
   "execution_count": 5,
   "id": "5be75f26-4410-4187-a126-04914c8372d7",
   "metadata": {
    "scrolled": true
   },
   "outputs": [],
   "source": [
    "import pyarrow.parquet as pq\n",
    "from pyiceberg.catalog import load_catalog"
   ]
  },
  {
   "cell_type": "code",
   "execution_count": 6,
   "id": "17a59808-c027-4962-9be8-2cb199486a7a",
   "metadata": {},
   "outputs": [],
   "source": [
    "catalog = load_catalog(\n",
    "    \"hive\",\n",
    "    **{\n",
    "        \"uri\": \"thrift://192.168.31.102:9083\", # For other networks use this URL: hive-ms-trino.apps.zagaopenshift.zagaopensource.com 9888\n",
    "        \"s3.endpoint\": \"https://minio-api-dev.apps.zagaopenshift.zagaopensource.com\",\n",
    "        \"s3.access-key-id\": \"minio\",\n",
    "        \"s3.secret-access-key\": \"minio123$\",\n",
    "    }\n",
    ")"
   ]
  },
  {
   "cell_type": "code",
   "execution_count": 7,
   "id": "b228bba2-ca4e-4437-a286-1b5c0a0139cf",
   "metadata": {},
   "outputs": [
    {
     "data": {
      "text/plain": [
       "[('default',),\n",
       " ('observabilityevents',),\n",
       " ('observabilitylog',),\n",
       " ('observabilitymetric',),\n",
       " ('observabilitynodemetric',),\n",
       " ('observabilitypodmetric',),\n",
       " ('observabilitytrace',)]"
      ]
     },
     "execution_count": 7,
     "metadata": {},
     "output_type": "execute_result"
    }
   ],
   "source": [
    "catalog.list_namespaces()"
   ]
  },
  {
   "cell_type": "code",
   "execution_count": 8,
   "id": "d431a08b-fcf5-4cca-a6ea-0583116f8ab1",
   "metadata": {},
   "outputs": [
    {
     "data": {
      "text/plain": [
       "[]"
      ]
     },
     "execution_count": 8,
     "metadata": {},
     "output_type": "execute_result"
    }
   ],
   "source": [
    "catalog.list_tables(\"pod\")"
   ]
  },
  {
   "cell_type": "code",
   "execution_count": null,
   "id": "63a2d3b8-1c81-414a-9833-d3855752b166",
   "metadata": {},
   "outputs": [],
   "source": [
    "## Load a table\n",
    "table = catalog.load_table(\"pod.pod_data\")"
   ]
  },
  {
   "cell_type": "code",
   "execution_count": null,
   "id": "df212c18-2e02-459f-a29e-f6f42fb60e60",
   "metadata": {
    "scrolled": true
   },
   "outputs": [],
   "source": [
    "## Check the tables schema\n",
    "print(table.metadata.schemas)"
   ]
  },
  {
   "cell_type": "code",
   "execution_count": null,
   "id": "e5fa0a24-8042-41c7-8f1b-deb3b495324b",
   "metadata": {},
   "outputs": [],
   "source": [
    "sc = table.scan()\n",
    "\n",
    "df = sc.to_arrow().to_pandas()"
   ]
  },
  {
   "cell_type": "code",
   "execution_count": null,
   "id": "29c1eb96-2e38-4313-ad6d-fa665471e232",
   "metadata": {
    "scrolled": true
   },
   "outputs": [],
   "source": [
    "df"
   ]
  },
  {
   "cell_type": "code",
   "execution_count": null,
   "id": "3b05ffc6-030e-48bd-bbf8-1d7e2dd9fa78",
   "metadata": {},
   "outputs": [],
   "source": [
    "! pip install logger\n",
    "! pip install trino\n",
    "! pip install SQLAlchemy\n",
    "! pip install sqlalchemy\n",
    "! pip install trino-sqlalchemy"
   ]
  },
  {
   "cell_type": "code",
   "execution_count": null,
   "id": "fe17ad80-6bc6-484b-802e-90e30084c4fc",
   "metadata": {},
   "outputs": [],
   "source": [
    "import os\n",
    "from logger import logger\n",
    "\n",
    "def logger():\n",
    "    logging.basicConfig(level=logging.INFO)\n",
    "    logger = logging.getLogger(_name_)\n",
    "    return logger"
   ]
  },
  {
   "cell_type": "code",
   "execution_count": null,
   "id": "44312c1a-adc6-47b3-9b6f-dd6efc847797",
   "metadata": {},
   "outputs": [],
   "source": [
    "from sqlalchemy import create_engine \n",
    "import os\n",
    "import traceback\n",
    "from logger import logger\n",
    "\n",
    "def get_connection():\n",
    "\n",
    "    # TRINO_HOST = \"trino-ind.apps.zagaopenshift.zagaopensource.com\"\n",
    "    # TRINO_PORT  = 8080\n",
    "    # TRINO_USER_ID  = 'admin'\n",
    "\n",
    "    TRINO_HOST = \"172.20.10.3\"\n",
    "    TRINO_PORT  = 8080\n",
    "    TRINO_USER_ID  = 'admin'\n",
    "    \n",
    "    try:\n",
    "        connect_str = f\"trino://{TRINO_USER_ID}@{TRINO_HOST}:{TRINO_PORT}\"\n",
    "\n",
    "        # logger().info(connect_str)\n",
    "        print(connect_str)\n",
    "\n",
    "        engine = create_engine(connect_str)\n",
    "\n",
    "        return engine.connect()\n",
    "    except Exception as e:\n",
    "        tb = traceback.TracebackException.from_exception(e)\n",
    "        print('Handled at stack lvl 0')\n",
    "        print(''.join(tb.stack.format()))\n",
    "        # return logger().info(e)\n",
    "        return None"
   ]
  },
  {
   "cell_type": "code",
   "execution_count": null,
   "id": "968033f7-a748-46f8-9e18-cfaaa22ee15e",
   "metadata": {},
   "outputs": [],
   "source": [
    "from sqlalchemy import text\n",
    "client = get_connection()\n",
    "if client:\n",
    "    with client:\n",
    "        result = client.execute(text(\"select * FROM iceberg.ingestdata.students\")).fetchall()\n",
    "        print(result)\n",
    "else:\n",
    "    print(\"Failed to connect\")"
   ]
  },
  {
   "cell_type": "code",
   "execution_count": null,
   "id": "2e429882-7acb-4862-abd1-848bc7b05486",
   "metadata": {},
   "outputs": [],
   "source": [
    "# pip list"
   ]
  }
 ],
 "metadata": {
  "kernelspec": {
   "display_name": "Python 3 (ipykernel)",
   "language": "python",
   "name": "python3"
  },
  "language_info": {
   "codemirror_mode": {
    "name": "ipython",
    "version": 3
   },
   "file_extension": ".py",
   "mimetype": "text/x-python",
   "name": "python",
   "nbconvert_exporter": "python",
   "pygments_lexer": "ipython3",
   "version": "3.11.7"
  }
 },
 "nbformat": 4,
 "nbformat_minor": 5
}

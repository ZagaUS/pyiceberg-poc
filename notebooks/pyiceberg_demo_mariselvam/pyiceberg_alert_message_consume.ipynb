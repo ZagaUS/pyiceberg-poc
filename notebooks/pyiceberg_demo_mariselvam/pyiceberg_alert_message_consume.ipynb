{
 "cells": [
  {
   "cell_type": "code",
   "execution_count": null,
   "metadata": {},
   "outputs": [],
   "source": [
    "from kafka import KafkaConsumer\n",
    "import json\n",
    "try:\n",
    "        # Create KafkaConsumer\n",
    "        consumer = KafkaConsumer(\n",
    "            \"alerttopic\",\n",
    "            bootstrap_servers=['telemetry-kafka-external-bootstrap-observability-kafka.apps.zagaopenshift.zagaopensource.com:443'],\n",
    "            value_deserializer=lambda v: v,  # Keep value as bytes for JSON decoding\n",
    "            group_id=\"alert-producer\",\n",
    "            auto_offset_reset='earliest',\n",
    "            consumer_timeout_ms=20000,\n",
    "            security_protocol='SSL',  # Add SSL configuration if needed\n",
    "            ssl_cafile='../telemetry_zagaopenshift.pem',\n",
    "            ssl_certfile='../telemetry_zagaopenshift.crt'\n",
    "        )\n",
    "        print(\"Kafka consumer created successfully.\")\n",
    "except Exception as e:\n",
    "        print(f\"Error creating Kafka consumer: {e}\")"
   ]
  },
  {
   "cell_type": "code",
   "execution_count": null,
   "metadata": {},
   "outputs": [],
   "source": [
    "messages = []\n",
    "try:\n",
    "        # logger.info(\"Starting message consumption\")\n",
    "    for message in consumer:\n",
    "            # logger.debug(f\"Consumed message: {message.value}\")\n",
    "            json_message = json.loads(message.value.decode('utf-8'))  # Decode and parse JSON\n",
    "            messages.append(json_message)\n",
    "            if len(messages) > 0:\n",
    "                print(\"Message consumed\")\n",
    "                consumer.close()\n",
    "except KeyboardInterrupt:\n",
    "        # logger.info(\"Stopping consumer...\")\n",
    "        print(\"Keyboard Interrupt\")\n",
    "except Exception as e:\n",
    "        # logger.error(f\"An error occurred: {e}\")\n",
    "        print(e)\n",
    "finally:\n",
    "        print(messages)"
   ]
  },
  {
   "cell_type": "code",
   "execution_count": 1,
   "metadata": {},
   "outputs": [
    {
     "name": "stdout",
     "output_type": "stream",
     "text": [
      "Server stopped by user\n"
     ]
    }
   ],
   "source": [
    "import asyncio\n",
    "import json\n",
    "import nest_asyncio\n",
    "from kafka import KafkaConsumer\n",
    "import websockets\n",
    "from websockets.exceptions import ConnectionClosedError, ConnectionClosedOK\n",
    "\n",
    "# Apply the nest_asyncio patch to allow nested event loops\n",
    "nest_asyncio.apply()\n",
    "\n",
    "# Kafka consumer configuration\n",
    "def create_kafka_consumer():\n",
    "    return KafkaConsumer(\n",
    "        \"alerttopic\",\n",
    "        bootstrap_servers=['telemetry-kafka-external-bootstrap-observability-kafka.apps.zagaopenshift.zagaopensource.com:443'],\n",
    "        value_deserializer=lambda v: json.loads(v.decode('utf-8')),\n",
    "        group_id=\"alert-producer\",\n",
    "        auto_offset_reset='earliest',\n",
    "        consumer_timeout_ms=1000,\n",
    "        security_protocol='SSL',\n",
    "        ssl_cafile='../telemetry_zagaopenshift.pem',\n",
    "        ssl_certfile='../telemetry_zagaopenshift.crt'\n",
    "    )\n",
    "\n",
    "# List to keep track of connected WebSocket clients\n",
    "connected_clients = set()\n",
    "\n",
    "async def kafka_consumer_handler(consumer):\n",
    "    try:\n",
    "        while True:\n",
    "            for message in consumer:\n",
    "                alert_data = message.value\n",
    "                print(f\"Received message from Kafka: {alert_data}\")\n",
    "                await broadcast(alert_data)\n",
    "            await asyncio.sleep(1)  # Sleep briefly to yield control back to the event loop\n",
    "    except Exception as e:\n",
    "        print(f\"Error in Kafka consumer handler: {e}\")\n",
    "\n",
    "async def websocket_handler(websocket, path):\n",
    "    # Register client\n",
    "    connected_clients.add(websocket)\n",
    "    print(f\"New client connected: {websocket.remote_address}, Path: {path}\")\n",
    "    try:\n",
    "        await websocket.send(json.dumps({\"message\": \"Connected to alert notification service\"}))\n",
    "        async for message in websocket:\n",
    "            # Here you can handle messages received from WebSocket clients if needed\n",
    "            print(f\"Received message from client: {message}\")\n",
    "    except (ConnectionClosedError, ConnectionClosedOK) as e:\n",
    "        print(f\"Client {websocket.remote_address} disconnected: {e}\")\n",
    "    except Exception as e:\n",
    "        print(f\"Error in websocket handler for client {websocket.remote_address}: {e}\")\n",
    "\n",
    "async def broadcast(message):\n",
    "    if connected_clients:\n",
    "        message = json.dumps(message)\n",
    "        await asyncio.gather(*[client.send(message) for client in connected_clients])\n",
    "\n",
    "async def main():\n",
    "    # Create Kafka consumer\n",
    "    consumer = create_kafka_consumer()\n",
    "    \n",
    "    # Start Kafka consumer handler\n",
    "    consumer_task = asyncio.create_task(kafka_consumer_handler(consumer))\n",
    "\n",
    "    # Start WebSocket server\n",
    "    async with websockets.serve(websocket_handler, \"localhost\", 6789):\n",
    "        await asyncio.Future()  # run forever\n",
    "\n",
    "    # Wait for the consumer task to complete (which it shouldn't)\n",
    "    await consumer_task\n",
    "\n",
    "# Entry point\n",
    "if __name__ == \"__main__\":\n",
    "    loop = asyncio.get_event_loop()\n",
    "    loop.create_task(main())\n",
    "    try:\n",
    "        loop.run_forever()\n",
    "    except KeyboardInterrupt:\n",
    "        print(\"Server stopped by user\")\n"
   ]
  },
  {
   "cell_type": "code",
   "execution_count": 2,
   "metadata": {},
   "outputs": [
    {
     "name": "stdout",
     "output_type": "stream",
     "text": [
      "New client connected: ('::1', 59630, 0, 0), Path: /\n",
      "Received message from client: Hello, Server!\n"
     ]
    },
    {
     "name": "stdout",
     "output_type": "stream",
     "text": [
      "Connected to server\n",
      "Received response: {\"message\": \"Connected to alert notification service\"}\n"
     ]
    }
   ],
   "source": [
    "import asyncio\n",
    "import websockets\n",
    "\n",
    "async def connect():\n",
    "    async with websockets.connect(\"ws://localhost:6789\") as websocket:\n",
    "        print(\"Connected to server\")\n",
    "        await websocket.send(\"Hello, Server!\")\n",
    "        response = await websocket.recv()\n",
    "        print(f\"Received response: {response}\")\n",
    "\n",
    "asyncio.run(connect())"
   ]
  },
  {
   "cell_type": "code",
   "execution_count": null,
   "metadata": {},
   "outputs": [],
   "source": []
  }
 ],
 "metadata": {
  "kernelspec": {
   "display_name": "Python 3",
   "language": "python",
   "name": "python3"
  },
  "language_info": {
   "codemirror_mode": {
    "name": "ipython",
    "version": 3
   },
   "file_extension": ".py",
   "mimetype": "text/x-python",
   "name": "python",
   "nbconvert_exporter": "python",
   "pygments_lexer": "ipython3",
   "version": "3.11.9"
  }
 },
 "nbformat": 4,
 "nbformat_minor": 2
}

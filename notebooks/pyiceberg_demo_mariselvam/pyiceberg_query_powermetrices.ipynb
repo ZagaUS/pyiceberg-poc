{
 "cells": [
  {
   "cell_type": "code",
   "execution_count": 1,
   "metadata": {},
   "outputs": [
    {
     "name": "stdout",
     "output_type": "stream",
     "text": [
      "                                             alldata\n",
      "0  {\"resourceMetrics\": [{\"resource\": {\"attributes...\n",
      "1  {\"resourceMetrics\": [{\"resource\": {\"attributes...\n",
      "2  {\"resourceMetrics\": [{\"resource\": {\"attributes...\n"
     ]
    }
   ],
   "source": [
    "import boto3\n",
    "import pandas as pd\n",
    "import s3fs\n",
    "\n",
    "# Initialize a session using boto3\n",
    "session = boto3.Session(\n",
    "    aws_access_key_id='minioAdmin',\n",
    "    aws_secret_access_key='minio1234',\n",
    "    region_name='us-east-1'\n",
    ")\n",
    "\n",
    "# Create an S3 client\n",
    "s3_client = session.client(\n",
    "    service_name='s3',\n",
    "    endpoint_url='http://minio-lb.apps.zagaopenshift.zagaopensource.com:9009'\n",
    ")\n",
    "\n",
    "# Specify the bucket and object key\n",
    "bucket_name = 'mariselvam'\n",
    "object_key = 'powerlevelsampledata/data'\n",
    "\n",
    "# Read the data into a pandas DataFrame\n",
    "s3_uri = f's3://{bucket_name}/{object_key}'\n",
    "df = pd.read_parquet(s3_uri, storage_options={\n",
    "    'key': 'minioAdmin',\n",
    "    'secret': 'minio1234',\n",
    "    'client_kwargs': {'endpoint_url': 'http://minio-lb.apps.zagaopenshift.zagaopensource.com:9009'}\n",
    "})\n",
    "# Display the data\n",
    "print(df.head())\n",
    "\n"
   ]
  },
  {
   "cell_type": "code",
   "execution_count": null,
   "metadata": {},
   "outputs": [],
   "source": []
  }
 ],
 "metadata": {
  "kernelspec": {
   "display_name": "Python 3",
   "language": "python",
   "name": "python3"
  },
  "language_info": {
   "codemirror_mode": {
    "name": "ipython",
    "version": 3
   },
   "file_extension": ".py",
   "mimetype": "text/x-python",
   "name": "python",
   "nbconvert_exporter": "python",
   "pygments_lexer": "ipython3",
   "version": "3.11.9"
  }
 },
 "nbformat": 4,
 "nbformat_minor": 2
}

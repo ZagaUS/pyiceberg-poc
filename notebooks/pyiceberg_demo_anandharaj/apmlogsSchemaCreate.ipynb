{
  "cells": [
    {
      "cell_type": "code",
      "execution_count": null,
      "metadata": {
        "id": "78Ojw8_amUNH"
      },
      "outputs": [],
      "source": [
        "!pip install \"pyiceberg[s3fs,hive]\""
      ]
    },
    {
      "cell_type": "code",
      "execution_count": 46,
      "metadata": {
        "id": "qf0Yf3bzmm9S"
      },
      "outputs": [],
      "source": [
        "from pyiceberg.catalog import load_catalog\n",
        "catalog = load_catalog(\n",
        "        \"docs\",\n",
        "    **{\n",
        "            \"uri\": \"thrift://hive-ms-trino.apps.zagaopenshift.zagaopensource.com:9888\",\n",
        "            \"s3.endpoint\": \"http://minio-lb.apps.zagaopenshift.zagaopensource.com:9009\",\n",
        "            \"py-io-impl\": \"pyiceberg.io.pyarrow.PyArrowFileIO\",\n",
        "            \"s3.access-key-id\": \"minioAdmin\",\n",
        "            \"s3.secret-access-key\": \"minio1234\",\n",
        "    }\n",
        ")"
      ]
    },
    {
      "cell_type": "code",
      "source": [
        "namespace=\"docs_logs\" #enter namespace\n",
        "ns=catalog.list_namespaces()\n",
        "print(ns)\n",
        "if((namespace,) in ns):\n",
        "  print(\"Namespace alredy exists\")\n",
        "else:\n",
        "  catalog.create_namespace(namespace)\n",
        "  print(\"Namespace create suceesss\")\n",
        "\n"
      ],
      "metadata": {
        "colab": {
          "base_uri": "https://localhost:8080/"
        },
        "id": "oyISAu2FCLKy",
        "outputId": "7db48129-948e-4d5d-8aae-ad54da36444d"
      },
      "execution_count": 48,
      "outputs": [
        {
          "output_type": "stream",
          "name": "stdout",
          "text": [
            "[('data',), ('default',), ('demo_data',), ('demo_saro',), ('demo_trace',), ('docs_check',), ('docs_logs',), ('docs_mari',), ('docs_powerleveldata',), ('docs_sa',), ('docs_sar',), ('docs_saro',), ('docs_selva',), ('hi',), ('hlo',), ('ingesting',), ('new',), ('old',), ('poc',), ('pod',), ('pod_data',), ('power_pod',), ('powerlevelpoddata',), ('powerpod',), ('saravan',), ('saravana',), ('saro',), ('saro_data',), ('sh',), ('sharanya',), ('sk',), ('soh',), ('trace_ingestion_data',)]\n",
            "Namespace alredy exists\n"
          ]
        }
      ]
    },
    {
      "cell_type": "code",
      "source": [
        "# catalog.drop_namespace(\"docs_logs\")"
      ],
      "metadata": {
        "id": "mENUOMJTGmpg"
      },
      "execution_count": null,
      "outputs": []
    },
    {
      "cell_type": "code",
      "source": [
        "from pyiceberg.schema import Schema\n",
        "from pyiceberg.types import (\n",
        "    TimestampType,\n",
        "    LongType,\n",
        "    IntegerType,\n",
        "    FloatType,\n",
        "    DoubleType,\n",
        "    StringType,\n",
        "    NestedField,\n",
        "    StructType,\n",
        "    ListType\n",
        ")\n",
        "from pyiceberg.partitioning import PartitionSpec, PartitionField\n",
        "from pyiceberg.transforms import DayTransform\n",
        "from pyiceberg.table.sorting import SortOrder, SortField\n",
        "from pyiceberg.transforms import IdentityTransform\n",
        "\n",
        "# Define the schema for the spans\n",
        "schema = Schema(\n",
        "    NestedField(field_id=1, name=\"servicename\", field_type=StringType(), required=False),\n",
        "    NestedField(field_id=2, name=\"language\", field_type=StringType(), required=False),\n",
        "    NestedField(field_id=3, name=\"logsdata\", field_type=StringType(), required=False),\n",
        "    NestedField(field_id=4, name=\"createdTime\", field_type=TimestampType(), required=False),\n",
        "\n",
        ")\n",
        "\n",
        "# partition_spec = PartitionSpec(\n",
        "#     PartitionField(\n",
        "#         source_id=1, field_id=1000, transform=DayTransform(), name=\"datetime_day\"\n",
        "#     )\n",
        "# )\n",
        "\n",
        "sort_order = SortOrder(SortField(source_id=3, transform=IdentityTransform()))\n",
        "\n",
        "table_name = \"logs\"  # Define your table identifier\n",
        "\n",
        "\n",
        "table = catalog.create_table(\n",
        "    identifier=(namespace, table_name),\n",
        "    schema=schema,\n",
        "    location=\"s3a://apmlogs/logs\", #mention s3 bucketname\n",
        "    # partition_spec=partition_spec,\n",
        "    sort_order=sort_order,\n",
        ")\n",
        "print(f\"Table '{table_name}' created successfully.\")\n",
        "\n"
      ],
      "metadata": {
        "id": "m4MIHCW9E9xF",
        "colab": {
          "base_uri": "https://localhost:8080/"
        },
        "outputId": "c3cfdf12-1856-46e7-fab8-de6a049cab4e"
      },
      "execution_count": 49,
      "outputs": [
        {
          "output_type": "stream",
          "name": "stdout",
          "text": [
            "Table 'logs' created successfully.\n"
          ]
        }
      ]
    },
    {
      "cell_type": "code",
      "source": [
        "table.schema()"
      ],
      "metadata": {
        "colab": {
          "base_uri": "https://localhost:8080/"
        },
        "id": "lv54xyb1Lnk6",
        "outputId": "38aff1cc-afcd-4cfa-bb75-96906c471c0e"
      },
      "execution_count": 54,
      "outputs": [
        {
          "output_type": "execute_result",
          "data": {
            "text/plain": [
              "Schema(NestedField(field_id=1, name='servicename', field_type=StringType(), required=False), NestedField(field_id=2, name='language', field_type=StringType(), required=False), NestedField(field_id=3, name='logsdata', field_type=StringType(), required=False), NestedField(field_id=4, name='createdTime', field_type=TimestampType(), required=False), schema_id=0, identifier_field_ids=[])"
            ]
          },
          "metadata": {},
          "execution_count": 54
        }
      ]
    },
    {
      "cell_type": "code",
      "source": [
        "catalog.list_tables(\"docs_logs\")  #mention namespace"
      ],
      "metadata": {
        "colab": {
          "base_uri": "https://localhost:8080/"
        },
        "id": "ApxkdKkBF2Hl",
        "outputId": "c3c33275-95f6-4b95-8eb0-219ad8925447"
      },
      "execution_count": 55,
      "outputs": [
        {
          "output_type": "execute_result",
          "data": {
            "text/plain": [
              "[('docs_logs', 'logs')]"
            ]
          },
          "metadata": {},
          "execution_count": 55
        }
      ]
    },
    {
      "cell_type": "code",
      "source": [
        "#catalog.drop_table(\"docs_logs.logs\") #mention namespace and tablename"
      ],
      "metadata": {
        "id": "QBYCQvN9GcP4"
      },
      "execution_count": 44,
      "outputs": []
    }
  ],
  "metadata": {
    "colab": {
      "provenance": []
    },
    "kernelspec": {
      "display_name": "Python 3",
      "name": "python3"
    },
    "language_info": {
      "name": "python"
    }
  },
  "nbformat": 4,
  "nbformat_minor": 0
}
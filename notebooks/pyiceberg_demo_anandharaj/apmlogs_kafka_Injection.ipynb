{
  "cells": [
    {
      "cell_type": "code",
      "execution_count": null,
      "metadata": {
        "id": "G87-mabDKEL-"
      },
      "outputs": [],
      "source": [
        "!pip install \"pyiceberg[s3fs,hive]\""
      ]
    },
    {
      "cell_type": "code",
      "execution_count": null,
      "metadata": {
        "id": "-nY0AtG6KrrF"
      },
      "outputs": [],
      "source": [
        "! pip install kafka-python"
      ]
    },
    {
      "cell_type": "code",
      "execution_count": 3,
      "metadata": {
        "id": "xDVU1xLzK9na"
      },
      "outputs": [],
      "source": [
        "from pyiceberg.catalog import load_catalog\n",
        "catalog = load_catalog(\n",
        "        \"docs\",\n",
        "    **{\n",
        "            \"uri\": \"thrift://hive-ms-trino.apps.zagaopenshift.zagaopensource.com:9888\",\n",
        "            \"s3.endpoint\": \"http://minio-lb.apps.zagaopenshift.zagaopensource.com:9009\",\n",
        "            \"py-io-impl\": \"pyiceberg.io.pyarrow.PyArrowFileIO\",\n",
        "            \"s3.access-key-id\": \"minioAdmin\",\n",
        "            \"s3.secret-access-key\": \"minio1234\",\n",
        "    }\n",
        ")\n",
        "logstable=catalog.load_table(\"docs_logs.logs\") #mention tablename and namesapce"
      ]
    },
    {
      "cell_type": "code",
      "execution_count": 5,
      "metadata": {
        "colab": {
          "base_uri": "https://localhost:8080/"
        },
        "id": "FpbeaKx7LFkK",
        "outputId": "2a5903cb-cc36-4b58-fbef-a8e5db237d64"
      },
      "outputs": [
        {
          "name": "stdout",
          "output_type": "stream",
          "text": [
            "Kafka consumer created successfully.\n"
          ]
        }
      ],
      "source": [
        "from kafka import KafkaConsumer\n",
        "import json\n",
        "try:\n",
        "        # Create KafkaConsumer\n",
        "        consumer = KafkaConsumer(\n",
        "            \"apmlogs\",\n",
        "            bootstrap_servers=['telemetry-kafka-external-bootstrap-observability-kafka.apps.zagaopenshift.zagaopensource.com:443'],\n",
        "            value_deserializer=lambda v: v,  # Keep value as bytes for JSON decoding\n",
        "            group_id=\"apmingestion\",\n",
        "            auto_offset_reset='earliest',\n",
        "            consumer_timeout_ms=10000,\n",
        "            security_protocol='SSL',  # Add SSL configuration if needed\n",
        "            ssl_cafile='./telemetry_zagaopenshift.pem',\n",
        "            ssl_certfile='./telemetry_zagaopenshift.crt'\n",
        "        )\n",
        "        print(\"Kafka consumer created successfully.\")\n",
        "except Exception as e:\n",
        "        print(f\"Error creating Kafka consumer: {e}\")"
      ]
    },
    {
      "cell_type": "code",
      "execution_count": null,
      "metadata": {
        "id": "-3WM19xlLKPI"
      },
      "outputs": [],
      "source": [
        "import pyarrow as pa\n",
        "import datetime\n",
        "import json\n",
        "def append_data(data):\n",
        "  final={}\n",
        "  # for key in data['resourceLogs'][0]['scopeLogs'] :\n",
        "  #   for key0 in key['logRecords'] :\n",
        "  #     # print(key0)\n",
        "  #     final.update({\n",
        "  #         \"traceid\":key0['traceId'],\n",
        "  #     })\n",
        "  for key in data['resourceLogs'][0]['resource']['attributes'] :\n",
        "    if(key['key']=='service.name'):\n",
        "      final.update({\n",
        "          \"servicename\":key['value']['stringValue'],\n",
        "      })\n",
        "    if(key['key']=='telemetry.sdk.language'):\n",
        "      final.update({\n",
        "          \"language\":key['value']['stringValue'],\n",
        "          \"logsdata\":json.dumps(data),\n",
        "          \"createdTime\":datetime.datetime.now()\n",
        "      })\n",
        "      \n",
        "      df=pa.Table.from_pylist([final])\n",
        "      logstable.append(df)\n",
        "      print(\"Data appended successfully.\")\n",
        "      # format.append(final)\n",
        "      final={}\n",
        "messages=[]\n",
        "try:\n",
        "  for message in consumer:\n",
        "      data = json.loads(message.value.decode('utf-8'))\n",
        "      append_data(data)\n",
        "      # print(data)\n",
        "      # messages.append(data)\n",
        "      # if(len(messages) > 5 ):\n",
        "      #   consumer.close()\n",
        "except Exception as e:\n",
        "  print(f\"Error consuming messages: {e}\")\n",
        "finally:\n",
        "  consumer.close()\n",
        "  print(\"Message consumption closed.\")\n",
        "\n"
      ]
    }
  ],
  "metadata": {
    "colab": {
      "provenance": []
    },
    "kernelspec": {
      "display_name": "Python 3",
      "name": "python3"
    },
    "language_info": {
      "name": "python"
    }
  },
  "nbformat": 4,
  "nbformat_minor": 0
}
